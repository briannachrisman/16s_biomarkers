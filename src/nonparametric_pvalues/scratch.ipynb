{
 "cells": [
  {
   "cell_type": "code",
   "execution_count": 18,
   "metadata": {},
   "outputs": [],
   "source": [
    "import matplotlib.pyplot as plt\n",
    "import numpy as np\n",
    "BIOMARKER_DIR = '/home/groups/dpwall/briannac/sequence_based_biomarkers/'"
   ]
  },
  {
   "cell_type": "code",
   "execution_count": 1,
   "metadata": {},
   "outputs": [],
   "source": [
    "import pandas as pd"
   ]
  },
  {
   "cell_type": "code",
   "execution_count": 17,
   "metadata": {},
   "outputs": [
    {
     "data": {
      "text/plain": [
       "456900000"
      ]
     },
     "execution_count": 17,
     "metadata": {},
     "output_type": "execute_result"
    }
   ],
   "source": [
    "(df.astype(int)>-1).sum().sum()"
   ]
  },
  {
   "cell_type": "code",
   "execution_count": 31,
   "metadata": {},
   "outputs": [],
   "source": [
    "pvals = np.load('/home/groups/dpwall/briannac/sequence_based_biomarkers/results/pvalues/pvals_autism_otu99.npy')"
   ]
  },
  {
   "cell_type": "code",
   "execution_count": 32,
   "metadata": {},
   "outputs": [
    {
     "data": {
      "image/png": "[encoded data removed]",
      "text/plain": [
       "<Figure size 432x288 with 1 Axes>"
      ]
     },
     "metadata": {
      "needs_background": "light"
     },
     "output_type": "display_data"
    }
   ],
   "source": [
    "plt.hist(pvals, bins=100)\n",
    "plt.show()"
   ]
  },
  {
   "cell_type": "code",
   "execution_count": null,
   "metadata": {},
   "outputs": [],
   "source": [
    "plt.hist(np.log10(pvals))\n",
    "plt"
   ]
  },
  {
   "cell_type": "code",
   "execution_count": 42,
   "metadata": {},
   "outputs": [],
   "source": [
    "a = np.array([[1,2,3,4, 0, 0, 0.0], [1,2,2,2,0,0,0.0]])"
   ]
  },
  {
   "cell_type": "code",
   "execution_count": 44,
   "metadata": {},
   "outputs": [
    {
     "data": {
      "text/plain": [
       "array([[1., 2., 3., 4., 0., 0., 0.],\n",
       "       [1., 3., 3., 3., 0., 0., 0.]])"
      ]
     },
     "execution_count": 44,
     "metadata": {},
     "output_type": "execute_result"
    }
   ],
   "source": [
    "a[a==0] = np.nan\n",
    "mstats.rankdata(np.ma.masked_invalid(a), axis=1)"
   ]
  },
  {
   "cell_type": "code",
   "execution_count": 40,
   "metadata": {},
   "outputs": [
    {
     "data": {
      "text/plain": [
       "array([1., 2., 3., 4., 0., 0., 0.])"
      ]
     },
     "execution_count": 40,
     "metadata": {},
     "output_type": "execute_result"
    }
   ],
   "source": [
    "mstats.rankdata(np.ma.masked_invalid(a))"
   ]
  },
  {
   "cell_type": "code",
   "execution_count": 16,
   "metadata": {},
   "outputs": [
    {
     "data": {
      "image/png": "[encoded data removed]",
      "text/plain": [
       "<Figure size 432x288 with 1 Axes>"
      ]
     },
     "metadata": {
      "needs_background": "light"
     },
     "output_type": "display_data"
    }
   ],
   "source": [
    "dataset='obesity'\n",
    "plt.figure()\n",
    "for sbb in ['sbb2', 'taxa', 'otu95', 'micropheno6', 'asv']:\n",
    "    pvals_data = np.load(BIOMARKER_DIR + 'results/pvalues/pvals_obesity_%s.npy' % sbb)\n",
    "    plt.hist(pvals_data, bins=np.linspace(0,7,50), density=True, histtype='step', label=sbb)\n",
    "plt.legend()\n",
    "plt.show()"
   ]
  },
  {
   "cell_type": "code",
   "execution_count": null,
   "metadata": {},
   "outputs": [],
   "source": [
    "dataset='obesity'\n",
    "plt.figure()\n",
    "for sbb in ['sbb2', 'taxa', 'otu95', 'micropheno6', 'asv']:\n",
    "    pvals_data = np.load(BIOMARKER_DIR + 'results/pvalues/pvals_%s_%s.npy' % (dataset, sbb))\n",
    "    plt.hist(pvals_data, bins=np.linspace(0,7,50), density=True, histtype='step', label=sbb)\n",
    "plt.legend()\n",
    "plt.show()"
   ]
  },
  {
   "cell_type": "code",
   "execution_count": 138,
   "metadata": {},
   "outputs": [],
   "source": [
    "import numpy as np\n",
    "from scipy.stats import *\n",
    "\n",
    "import numpy as np\n",
    "from scipy.stats import *\n",
    "def wilcoxon_fast(diffs, diffs_rank):\n",
    "    x = diffs_rank[diffs>0]\n",
    "    y = diffs_rank[diffs<0]-sum(diffs==0)\n",
    "    count = len(x) + len(y)\n",
    "    print(max(y))\n",
    "    r_plus = np.sum(x)\n",
    "    r_minus = np.sum(y)\n",
    "    W = r_plus - r_minus\n",
    "    se = np.sqrt(count*(count+1)*(2*count+1)/6)\n",
    "    z = W/se\n",
    "    return abs(z)\n"
   ]
  },
  {
   "cell_type": "code",
   "execution_count": 137,
   "metadata": {},
   "outputs": [
    {
     "name": "stdout",
     "output_type": "stream",
     "text": [
      "8637.5\n",
      "1701981.0\n",
      "3.153511555695308\n"
     ]
    }
   ],
   "source": [
    "diffs=np.array([np.random.randint(-10,11) for i in range(10000)])\n",
    "print(wilcoxon_fast(diffs, rankdata(-abs(diffs))))\n"
   ]
  },
  {
   "cell_type": "code",
   "execution_count": 101,
   "metadata": {},
   "outputs": [
    {
     "data": {
      "text/plain": [
       "0.0"
      ]
     },
     "execution_count": 101,
     "metadata": {},
     "output_type": "execute_result"
    }
   ],
   "source": [
    "np.median(diffs)"
   ]
  },
  {
   "cell_type": "code",
   "execution_count": 28,
   "metadata": {},
   "outputs": [
    {
     "data": {
      "text/plain": [
       "[0.0,\n",
       " 0.0,\n",
       " 0.0,\n",
       " 0.0,\n",
       " 0.0,\n",
       " 0.0,\n",
       " 0.0,\n",
       " 0.0,\n",
       " 0.0,\n",
       " 0.0,\n",
       " 0.0,\n",
       " 0.0,\n",
       " 0.0,\n",
       " 0.0,\n",
       " 0.0,\n",
       " 0.0,\n",
       " 0.0,\n",
       " 0.0,\n",
       " 0.0,\n",
       " 3.331476433840331e-295,\n",
       " 3.222815072633627e-289,\n",
       " 1.5754203928720434e-287,\n",
       " 1.0189961498351781e-282,\n",
       " 5.448797028559143e-262,\n",
       " 5.994439798811648e-253,\n",
       " 8.141128079657763e-234,\n",
       " 7.453598378055309e-226,\n",
       " 1.6497698477732523e-223,\n",
       " 3.07564620750749e-219,\n",
       " 5.265865673109025e-211,\n",
       " 3.5565644355616634e-210,\n",
       " 1.914497281267071e-209,\n",
       " 1.3206350702020337e-206,\n",
       " 2.082823211615683e-205,\n",
       " 7.014740387339588e-200,\n",
       " 9.551722881288291e-179,\n",
       " 6.166514882125805e-174,\n",
       " 8.401506490090962e-173,\n",
       " 2.929991164942429e-168,\n",
       " 5.733031264012467e-159,\n",
       " 1.7134375215440888e-156,\n",
       " 7.023785130676265e-155,\n",
       " 1.487079581430008e-153,\n",
       " 1.5704534579173438e-147,\n",
       " 2.351010019032362e-140,\n",
       " 9.005190738225623e-132,\n",
       " 5.008871029062155e-126,\n",
       " 2.164341059747671e-120,\n",
       " 9.000903179849157e-120,\n",
       " 9.222347994020321e-116,\n",
       " 5.239805242752846e-115,\n",
       " 4.08276209785717e-111,\n",
       " 1.9517282037964087e-109,\n",
       " 2.3506402998778007e-105,\n",
       " 1.2145616896032658e-95,\n",
       " 5.437621061778461e-87,\n",
       " 9.734490359548645e-86,\n",
       " 1.6691204447171155e-72,\n",
       " 7.101431409469499e-71,\n",
       " 4.4415411141982026e-66,\n",
       " 4.610767529858268e-63,\n",
       " 4.041773969329142e-55,\n",
       " 1.9277860052928888e-51,\n",
       " 6.181906016130967e-45,\n",
       " 4.2617332159953945e-39,\n",
       " 6.642353565195036e-39,\n",
       " 4.0051588090576546e-38,\n",
       " 2.186842998388739e-32,\n",
       " 8.344002822675744e-30,\n",
       " 1.4840897273766624e-28,\n",
       " 2.5115155781236177e-26,\n",
       " 4.9581160311297865e-26,\n",
       " 1.0548087377827415e-22,\n",
       " 1.0768558544475568e-21,\n",
       " 3.617341076416353e-21,\n",
       " 7.784208367943994e-19,\n",
       " 1.6909384709815292e-18,\n",
       " 2.1715303616686016e-18,\n",
       " 8.652444044699284e-16,\n",
       " 1.2353372372026223e-15,\n",
       " 4.517971363771443e-14,\n",
       " 1.6030312471896904e-13,\n",
       " 1.1625754133489267e-10,\n",
       " 1.2664841795061646e-08,\n",
       " 7.536363891341568e-08,\n",
       " 4.2992778984900856e-07,\n",
       " 4.5109030106898525e-07,\n",
       " 6.588616703640759e-07,\n",
       " 9.428554420949055e-07,\n",
       " 1.3600208263036501e-06,\n",
       " 2.98783133023657e-06,\n",
       " 3.4463612330093792e-06,\n",
       " 4.755352220023488e-06,\n",
       " 6.5156559213985915e-06,\n",
       " 6.6006333254987055e-06,\n",
       " 1.3169704147152082e-05,\n",
       " 3.238729579129152e-05,\n",
       " 3.260268524156629e-05,\n",
       " 5.565235921102012e-05,\n",
       " 7.843614709256245e-05,\n",
       " 0.0001603859759323428,\n",
       " 0.000222089501824973,\n",
       " 0.0003585118137686558,\n",
       " 0.0003730493772076079,\n",
       " 0.00039599382886430404,\n",
       " 0.0004462936834362228,\n",
       " 0.0005133656678097776,\n",
       " 0.0005999180608867841,\n",
       " 0.000728764871079708,\n",
       " 0.0007614303211377634,\n",
       " 0.0008626121672763565,\n",
       " 0.0010357968834019808,\n",
       " 0.0011551914388049673,\n",
       " 0.0012378905744418606,\n",
       " 0.0013040478153416516,\n",
       " 0.002091897359238998,\n",
       " 0.0022210228557743637,\n",
       " 0.003064341388576259,\n",
       " 0.003078293198908598,\n",
       " 0.003579877598140783,\n",
       " 0.0036061155919334055,\n",
       " 0.0037950148137822015,\n",
       " 0.004216876886740187,\n",
       " 0.0044567533250077195,\n",
       " 0.004701736207665319,\n",
       " 0.005316329309636701,\n",
       " 0.005711218506675356,\n",
       " 0.005711218506675356,\n",
       " 0.005774938676204776,\n",
       " 0.008018386964800403,\n",
       " 0.01618611375137273,\n",
       " 0.016239667098742153,\n",
       " 0.017583419592441977,\n",
       " 0.026276967233973058,\n",
       " 0.028602533731145584,\n",
       " 0.02934510376173623,\n",
       " 0.029781949864576104,\n",
       " 0.032992158605223136,\n",
       " 0.0363885624693499,\n",
       " 0.05405877063319156,\n",
       " 0.060597596262875225,\n",
       " 0.06643576427425238,\n",
       " 0.07373175098119546,\n",
       " 0.07842499112059886,\n",
       " 0.09124061199766254,\n",
       " 0.09649413528879455,\n",
       " 0.12303134411919914,\n",
       " 0.1542081949927876,\n",
       " 0.15509189742041213,\n",
       " 0.16824935910530037,\n",
       " 0.2086260074799171,\n",
       " 0.23702590763545084,\n",
       " 0.24919857720221072,\n",
       " 0.25133874184442573,\n",
       " 0.2702760426232097,\n",
       " 0.27354523362504923,\n",
       " 0.2742309405937752,\n",
       " 0.286320856796074,\n",
       " 0.34885186670661494,\n",
       " 0.4153727696853847,\n",
       " 0.4268926043007395,\n",
       " 0.429542244254442,\n",
       " 0.43076739302677325,\n",
       " 0.4321814504191569,\n",
       " 0.4611185070526911,\n",
       " 0.5124313015000461,\n",
       " 0.5416101494757406,\n",
       " 0.5532671391570171,\n",
       " 0.5648782511789425,\n",
       " 0.6316764117801512,\n",
       " 0.65940895485292,\n",
       " 0.6892779815624503,\n",
       " 0.7081999016432015,\n",
       " 0.7257592145123415,\n",
       " 0.7271401307761861,\n",
       " 0.7804465134440851,\n",
       " 0.8422567745702043,\n",
       " 0.8778138633223858,\n",
       " 0.9250326107467567,\n",
       " 0.9506658004271279,\n",
       " 0.9777399362380967,\n",
       " 0.9909860664036513,\n",
       " 0.9927743905311203]"
      ]
     },
     "execution_count": 28,
     "metadata": {},
     "output_type": "execute_result"
    }
   ],
   "source": [
    "pvals_data"
   ]
  },
  {
   "cell_type": "code",
   "execution_count": 23,
   "metadata": {},
   "outputs": [],
   "source": [
    "dataset='obesity'\n",
    "fdr_dict = dict()\n",
    "for biomarker in ['asv', 'taxa', 'sbb1', 'otu90', 'otu95', 'otu97', 'otu99', 'micropheno4', 'micropheno6', 'micropheno8']:\n",
    "    fdr_dict[biomarker] = np.load(BIOMARKER_DIR + 'intermediate_files/nonparametric_pvalues/%s_%s/false_discovery_count_%s_%s_100.npy' % (dataset, biomarker, dataset,biomarker))\n"
   ]
  },
  {
   "cell_type": "code",
   "execution_count": 24,
   "metadata": {},
   "outputs": [
    {
     "data": {
      "image/png": "[encoded data removed]",
      "text/plain": [
       "<Figure size 432x288 with 1 Axes>"
      ]
     },
     "metadata": {
      "needs_background": "light"
     },
     "output_type": "display_data"
    }
   ],
   "source": [
    "plt.figure()\n",
    "for biomarker in fdr_dict:\n",
    "    fdrs = fdr_dict[biomarker]\n",
    "    plt.plot([i/len(fdrs) for i in range(len(fdrs))], [fdr/len(fdrs)/100 for fdr in fdrs], label=biomarker)\n",
    "plt.legend()\n",
    "plt.show()"
   ]
  },
  {
   "cell_type": "code",
   "execution_count": 12,
   "metadata": {},
   "outputs": [
    {
     "ename": "TypeError",
     "evalue": "only integer scalar arrays can be converted to a scalar index",
     "output_type": "error",
     "traceback": [
      "\u001b[0;31m---------------------------------------------------------------------------\u001b[0m",
      "\u001b[0;31mTypeError\u001b[0m                                 Traceback (most recent call last)",
      "\u001b[0;32m<ipython-input-12-3e100ede4511>\u001b[0m in \u001b[0;36m<module>\u001b[0;34m\u001b[0m\n\u001b[0;32m----> 1\u001b[0;31m \u001b[0;34m[\u001b[0m\u001b[0mi\u001b[0m \u001b[0;32mfor\u001b[0m \u001b[0mi\u001b[0m \u001b[0;32min\u001b[0m \u001b[0mrange\u001b[0m\u001b[0;34m(\u001b[0m\u001b[0mfdrs\u001b[0m\u001b[0;34m)\u001b[0m\u001b[0;34m]\u001b[0m\u001b[0;34m\u001b[0m\u001b[0m\n\u001b[0m",
      "\u001b[0;31mTypeError\u001b[0m: only integer scalar arrays can be converted to a scalar index"
     ]
    }
   ],
   "source": [
    "[i for i in range(fdrs)]"
   ]
  },
  {
   "cell_type": "code",
   "execution_count": 6,
   "metadata": {},
   "outputs": [
    {
     "name": "stderr",
     "output_type": "stream",
     "text": [
      "\n",
      "  0%|          | 0/11 [00:00<?, ?it/s]\u001b[A"
     ]
    },
    {
     "name": "stdout",
     "output_type": "stream",
     "text": [
      "person x biomarker shape:  (640, 109446)\n"
     ]
    },
    {
     "name": "stderr",
     "output_type": "stream",
     "text": [
      "\n",
      "  9%|▉         | 1/11 [02:36<26:05, 156.51s/it]\u001b[A\n",
      " 18%|█▊        | 2/11 [05:09<23:18, 155.40s/it]\u001b[A\n",
      " 27%|██▋       | 3/11 [07:42<20:38, 154.87s/it]\u001b[A\n",
      " 36%|███▋      | 4/11 [10:16<18:00, 154.35s/it]\u001b[A\n",
      " 45%|████▌     | 5/11 [12:50<15:26, 154.36s/it]\u001b[A"
     ]
    },
    {
     "ename": "KeyboardInterrupt",
     "evalue": "",
     "output_type": "error",
     "traceback": [
      "\u001b[0;31m---------------------------------------------------------------------------\u001b[0m",
      "\u001b[0;31mKeyboardInterrupt\u001b[0m                         Traceback (most recent call last)",
      "\u001b[0;32m<ipython-input-6-11b0e8a49f5d>\u001b[0m in \u001b[0;36m<module>\u001b[0;34m\u001b[0m\n\u001b[1;32m     26\u001b[0m         \u001b[0;32mif\u001b[0m \u001b[0;34m'autism'\u001b[0m \u001b[0;32min\u001b[0m \u001b[0mdataset\u001b[0m\u001b[0;34m:\u001b[0m\u001b[0;34m\u001b[0m\u001b[0m\n\u001b[1;32m     27\u001b[0m             \u001b[0mdiffs\u001b[0m \u001b[0;34m=\u001b[0m \u001b[0mnp\u001b[0m\u001b[0;34m.\u001b[0m\u001b[0mapply_along_axis\u001b[0m\u001b[0;34m(\u001b[0m\u001b[0marr\u001b[0m\u001b[0;34m=\u001b[0m\u001b[0md\u001b[0m\u001b[0;34m,\u001b[0m \u001b[0maxis\u001b[0m\u001b[0;34m=\u001b[0m\u001b[0;36m0\u001b[0m\u001b[0;34m,\u001b[0m\u001b[0mfunc1d\u001b[0m\u001b[0;34m=\u001b[0m\u001b[0;32mlambda\u001b[0m \u001b[0mx\u001b[0m\u001b[0;34m:\u001b[0m \u001b[0mx\u001b[0m\u001b[0;34m*\u001b[0m\u001b[0mpermuted_phenos\u001b[0m\u001b[0;34m[\u001b[0m\u001b[0mi\u001b[0m\u001b[0;34m,\u001b[0m\u001b[0;34m:\u001b[0m\u001b[0;34m:\u001b[0m\u001b[0;36m2\u001b[0m\u001b[0;34m]\u001b[0m\u001b[0;34m)\u001b[0m\u001b[0;34m\u001b[0m\u001b[0m\n\u001b[0;32m---> 28\u001b[0;31m             \u001b[0mpvals_permute\u001b[0m \u001b[0;34m=\u001b[0m \u001b[0;34m[\u001b[0m\u001b[0mwilcoxon_fast\u001b[0m\u001b[0;34m(\u001b[0m\u001b[0md\u001b[0m\u001b[0;34m,\u001b[0m \u001b[0mrank\u001b[0m\u001b[0;34m)\u001b[0m \u001b[0;32mfor\u001b[0m \u001b[0md\u001b[0m\u001b[0;34m,\u001b[0m \u001b[0mrank\u001b[0m \u001b[0;32min\u001b[0m \u001b[0mzip\u001b[0m\u001b[0;34m(\u001b[0m\u001b[0mdiffs\u001b[0m\u001b[0;34m.\u001b[0m\u001b[0mtranspose\u001b[0m\u001b[0;34m(\u001b[0m\u001b[0;34m)\u001b[0m\u001b[0;34m,\u001b[0m \u001b[0mdiffs_rank\u001b[0m\u001b[0;34m.\u001b[0m\u001b[0mtranspose\u001b[0m\u001b[0;34m(\u001b[0m\u001b[0;34m)\u001b[0m\u001b[0;34m)\u001b[0m\u001b[0;34m]\u001b[0m\u001b[0;34m\u001b[0m\u001b[0m\n\u001b[0m\u001b[1;32m     29\u001b[0m         \u001b[0;32melif\u001b[0m \u001b[0;34m'obesity'\u001b[0m \u001b[0;32min\u001b[0m \u001b[0mdataset\u001b[0m\u001b[0;34m:\u001b[0m\u001b[0;34m\u001b[0m\u001b[0m\n\u001b[1;32m     30\u001b[0m             \u001b[0maffected\u001b[0m \u001b[0;34m=\u001b[0m \u001b[0mranks\u001b[0m\u001b[0;34m[\u001b[0m\u001b[0mnp\u001b[0m\u001b[0;34m.\u001b[0m\u001b[0mwhere\u001b[0m\u001b[0;34m(\u001b[0m\u001b[0mpermuted_phenos\u001b[0m\u001b[0;34m[\u001b[0m\u001b[0mi\u001b[0m\u001b[0;34m]\u001b[0m\u001b[0;34m)\u001b[0m\u001b[0;34m[\u001b[0m\u001b[0;36m0\u001b[0m\u001b[0;34m]\u001b[0m\u001b[0;34m,\u001b[0m\u001b[0;34m:\u001b[0m\u001b[0;34m]\u001b[0m\u001b[0;34m\u001b[0m\u001b[0m\n",
      "\u001b[0;32m<ipython-input-6-11b0e8a49f5d>\u001b[0m in \u001b[0;36m<listcomp>\u001b[0;34m(.0)\u001b[0m\n\u001b[1;32m     26\u001b[0m         \u001b[0;32mif\u001b[0m \u001b[0;34m'autism'\u001b[0m \u001b[0;32min\u001b[0m \u001b[0mdataset\u001b[0m\u001b[0;34m:\u001b[0m\u001b[0;34m\u001b[0m\u001b[0m\n\u001b[1;32m     27\u001b[0m             \u001b[0mdiffs\u001b[0m \u001b[0;34m=\u001b[0m \u001b[0mnp\u001b[0m\u001b[0;34m.\u001b[0m\u001b[0mapply_along_axis\u001b[0m\u001b[0;34m(\u001b[0m\u001b[0marr\u001b[0m\u001b[0;34m=\u001b[0m\u001b[0md\u001b[0m\u001b[0;34m,\u001b[0m \u001b[0maxis\u001b[0m\u001b[0;34m=\u001b[0m\u001b[0;36m0\u001b[0m\u001b[0;34m,\u001b[0m\u001b[0mfunc1d\u001b[0m\u001b[0;34m=\u001b[0m\u001b[0;32mlambda\u001b[0m \u001b[0mx\u001b[0m\u001b[0;34m:\u001b[0m \u001b[0mx\u001b[0m\u001b[0;34m*\u001b[0m\u001b[0mpermuted_phenos\u001b[0m\u001b[0;34m[\u001b[0m\u001b[0mi\u001b[0m\u001b[0;34m,\u001b[0m\u001b[0;34m:\u001b[0m\u001b[0;34m:\u001b[0m\u001b[0;36m2\u001b[0m\u001b[0;34m]\u001b[0m\u001b[0;34m)\u001b[0m\u001b[0;34m\u001b[0m\u001b[0m\n\u001b[0;32m---> 28\u001b[0;31m             \u001b[0mpvals_permute\u001b[0m \u001b[0;34m=\u001b[0m \u001b[0;34m[\u001b[0m\u001b[0mwilcoxon_fast\u001b[0m\u001b[0;34m(\u001b[0m\u001b[0md\u001b[0m\u001b[0;34m,\u001b[0m \u001b[0mrank\u001b[0m\u001b[0;34m)\u001b[0m \u001b[0;32mfor\u001b[0m \u001b[0md\u001b[0m\u001b[0;34m,\u001b[0m \u001b[0mrank\u001b[0m \u001b[0;32min\u001b[0m \u001b[0mzip\u001b[0m\u001b[0;34m(\u001b[0m\u001b[0mdiffs\u001b[0m\u001b[0;34m.\u001b[0m\u001b[0mtranspose\u001b[0m\u001b[0;34m(\u001b[0m\u001b[0;34m)\u001b[0m\u001b[0;34m,\u001b[0m \u001b[0mdiffs_rank\u001b[0m\u001b[0;34m.\u001b[0m\u001b[0mtranspose\u001b[0m\u001b[0;34m(\u001b[0m\u001b[0;34m)\u001b[0m\u001b[0;34m)\u001b[0m\u001b[0;34m]\u001b[0m\u001b[0;34m\u001b[0m\u001b[0m\n\u001b[0m\u001b[1;32m     29\u001b[0m         \u001b[0;32melif\u001b[0m \u001b[0;34m'obesity'\u001b[0m \u001b[0;32min\u001b[0m \u001b[0mdataset\u001b[0m\u001b[0;34m:\u001b[0m\u001b[0;34m\u001b[0m\u001b[0m\n\u001b[1;32m     30\u001b[0m             \u001b[0maffected\u001b[0m \u001b[0;34m=\u001b[0m \u001b[0mranks\u001b[0m\u001b[0;34m[\u001b[0m\u001b[0mnp\u001b[0m\u001b[0;34m.\u001b[0m\u001b[0mwhere\u001b[0m\u001b[0;34m(\u001b[0m\u001b[0mpermuted_phenos\u001b[0m\u001b[0;34m[\u001b[0m\u001b[0mi\u001b[0m\u001b[0;34m]\u001b[0m\u001b[0;34m)\u001b[0m\u001b[0;34m[\u001b[0m\u001b[0;36m0\u001b[0m\u001b[0;34m]\u001b[0m\u001b[0;34m,\u001b[0m\u001b[0;34m:\u001b[0m\u001b[0;34m]\u001b[0m\u001b[0;34m\u001b[0m\u001b[0m\n",
      "\u001b[0;32m/home/groups/dpwall/briannac/sequence_based_biomarkers/src/nonparametric_pvalues/fast_stats.py\u001b[0m in \u001b[0;36mwilcoxon_fast\u001b[0;34m(diffs, diffs_rank)\u001b[0m\n\u001b[1;32m     32\u001b[0m \u001b[0;32mdef\u001b[0m \u001b[0mwilcoxon_fast\u001b[0m\u001b[0;34m(\u001b[0m\u001b[0mdiffs\u001b[0m\u001b[0;34m,\u001b[0m \u001b[0mdiffs_rank\u001b[0m\u001b[0;34m)\u001b[0m\u001b[0;34m:\u001b[0m\u001b[0;34m\u001b[0m\u001b[0m\n\u001b[1;32m     33\u001b[0m     \u001b[0mx\u001b[0m \u001b[0;34m=\u001b[0m \u001b[0mdiffs_rank\u001b[0m\u001b[0;34m[\u001b[0m\u001b[0mdiffs\u001b[0m\u001b[0;34m>\u001b[0m\u001b[0;36m0\u001b[0m\u001b[0;34m]\u001b[0m\u001b[0;34m\u001b[0m\u001b[0m\n\u001b[0;32m---> 34\u001b[0;31m     \u001b[0my\u001b[0m \u001b[0;34m=\u001b[0m \u001b[0mdiffs_rank\u001b[0m\u001b[0;34m[\u001b[0m\u001b[0mdiffs\u001b[0m\u001b[0;34m<\u001b[0m\u001b[0;36m0\u001b[0m\u001b[0;34m]\u001b[0m\u001b[0;34m\u001b[0m\u001b[0m\n\u001b[0m\u001b[1;32m     35\u001b[0m     \u001b[0mcount\u001b[0m \u001b[0;34m=\u001b[0m \u001b[0mlen\u001b[0m\u001b[0;34m(\u001b[0m\u001b[0mx\u001b[0m\u001b[0;34m)\u001b[0m \u001b[0;34m+\u001b[0m \u001b[0mlen\u001b[0m\u001b[0;34m(\u001b[0m\u001b[0my\u001b[0m\u001b[0;34m)\u001b[0m\u001b[0;34m\u001b[0m\u001b[0m\n\u001b[1;32m     36\u001b[0m     \u001b[0mr_plus\u001b[0m \u001b[0;34m=\u001b[0m \u001b[0mnp\u001b[0m\u001b[0;34m.\u001b[0m\u001b[0msum\u001b[0m\u001b[0;34m(\u001b[0m\u001b[0mx\u001b[0m\u001b[0;34m)\u001b[0m\u001b[0;34m\u001b[0m\u001b[0m\n",
      "\u001b[0;31mKeyboardInterrupt\u001b[0m: "
     ]
    }
   ],
   "source": [
    "dataset = sys.argv[1]\n",
    "biomarker = sys.argv[2]\n",
    "\n",
    "BIOMARKER_DIR = '/home/groups/dpwall/briannac/sequence_based_biomarkers/'\n",
    "PERMUTE_START = sys.argv[3]\n",
    "PERMUTE_END = sys.argv[4]\n",
    "\n",
    "pvals_data = sorted(np.load(BIOMARKER_DIR + 'results/pvalues/pvals_%s_%s.npy' % (dataset, biomarker)))\n",
    "permuted_phenos = np.load(BIOMARKER_DIR + 'intermediate_files/permutation_test/%s_phenos_permuted.npy' % dataset).astype(int)[PERMUTE_START:PERMUTE_END]\n",
    "pvals_count = np.zeros(len(pvals_data)).astype(int)\n",
    "step_size=100000\n",
    "n_iters=len(permuted_phenos)\n",
    "person_biomarker = scipy.sparse.load_npz(BIOMARKER_DIR + 'results/generate_biomarkers/sample_vs_biomarker_%s_%s.npz' % (biomarker, dataset))\n",
    "\n",
    "t = time.time()\n",
    "print('person x biomarker shape: ', np.shape(person_biomarker))\n",
    "for chunk_start in tqdm(np.arange(0,np.shape(person_biomarker)[1], step=step_size)):\n",
    "    chunk_end = min(chunk_start+step_size, np.shape(person_biomarker)[1])\n",
    "    person_biomarker_current = person_biomarker[:,chunk_start:chunk_end].toarray()\n",
    "    if 'autism' in dataset:\n",
    "        d = person_biomarker_current[::2]-person_biomarker_current[1::2]\n",
    "        diffs_rank = np.apply_along_axis(arr=d, axis=0,func1d=lambda x:rankdata(abs(x)))\n",
    "    if 'obesity' in dataset:\n",
    "        ranks = rankdata(person_biomarker_current, axis=0)\n",
    "    for i in range(n_iters):\n",
    "        if 'autism' in dataset:\n",
    "            diffs = np.apply_along_axis(arr=d, axis=0,func1d=lambda x: x*permuted_phenos[i,::2])\n",
    "            pvals_permute = [wilcoxon_fast(d, rank) for d, rank in zip(diffs.transpose(), diffs_rank.transpose())]\n",
    "        elif 'obesity' in dataset:\n",
    "            affected = ranks[np.where(permuted_phenos[i])[0],:]\n",
    "            unaffected = ranks[np.where(np.invert(permuted_phenos[i]))[0],:]\n",
    "            pvals_permute = sorted([mannwhitneyu_fast(\n",
    "                affected[:,i],\n",
    "                unaffected[:,i]) for i in range(np.shape(person_biomarker_current)[1])])\n",
    "        pvals_count = pvals_count + countLessThanEqual(pvals_data, pvals_permute)\n",
    "#fdr = [p/(i+.0001)/n_iters for i,p in enumerate(pvals_count)]\n",
    "print(time.time()-t)\n",
    "#np.save(BIOMARKER_DIR + 'results/pvalues/%s_%s/false_discovery_count_%s_%s_%i.npy' % (dataset, biomarker, dataset, biomarker, PERMUTE_START), pvals_count)\n"
   ]
  },
  {
   "cell_type": "code",
   "execution_count": 63,
   "metadata": {},
   "outputs": [],
   "source": [
    "df = pd.DataFrame(person_biomarker.todense()).transpose()"
   ]
  },
  {
   "cell_type": "code",
   "execution_count": 64,
   "metadata": {},
   "outputs": [],
   "source": [
    "dups = df.duplicated()"
   ]
  },
  {
   "cell_type": "code",
   "execution_count": 65,
   "metadata": {},
   "outputs": [
    {
     "data": {
      "text/plain": [
       "0"
      ]
     },
     "execution_count": 65,
     "metadata": {},
     "output_type": "execute_result"
    }
   ],
   "source": [
    "sum(dups)"
   ]
  },
  {
   "cell_type": "code",
   "execution_count": 105,
   "metadata": {},
   "outputs": [
    {
     "name": "stderr",
     "output_type": "stream",
     "text": [
      "\n",
      "\n",
      "\n",
      "\n",
      "\n",
      "\n",
      "\n",
      "\n",
      "\n",
      "\n",
      "\n",
      "\n",
      "  0%|          | 0/1 [00:00<?, ?it/s]\u001b[A\u001b[A\u001b[A\u001b[A\u001b[A\u001b[A\u001b[A\u001b[A\u001b[A\u001b[A\u001b[A\u001b[A"
     ]
    },
    {
     "name": "stdout",
     "output_type": "stream",
     "text": [
      "person x biomarker shape:  (640, 644)\n",
      "0\n",
      "1\n",
      "2\n",
      "3\n",
      "4\n",
      "5\n",
      "6\n",
      "7\n",
      "8\n",
      "9\n",
      "10\n",
      "11\n",
      "12\n",
      "13\n",
      "14\n",
      "15\n",
      "16\n",
      "17\n",
      "18\n",
      "19\n",
      "20\n",
      "21\n",
      "22\n",
      "23\n",
      "24\n",
      "25\n",
      "26\n",
      "27\n",
      "28\n",
      "29\n",
      "30\n",
      "31\n",
      "32\n",
      "33\n",
      "34\n",
      "35\n",
      "36\n",
      "37\n",
      "38\n",
      "39\n",
      "40\n",
      "41\n",
      "42\n",
      "43\n",
      "44\n",
      "45\n",
      "46\n",
      "47\n",
      "48\n",
      "49\n",
      "50\n",
      "51\n",
      "52\n",
      "53\n",
      "54\n",
      "55\n",
      "56\n",
      "57\n",
      "58\n",
      "59\n",
      "60\n",
      "61\n",
      "62\n",
      "63\n",
      "64\n",
      "65\n",
      "66\n",
      "67\n",
      "68\n",
      "69\n",
      "70\n",
      "71\n",
      "72\n",
      "73\n",
      "74\n",
      "75\n",
      "76\n",
      "77\n",
      "78\n",
      "79\n",
      "80\n",
      "81\n",
      "82\n",
      "83\n",
      "84\n",
      "85\n",
      "86\n",
      "87\n",
      "88\n",
      "89\n",
      "90\n",
      "91\n",
      "92\n",
      "93\n",
      "94\n",
      "95\n",
      "96\n",
      "97\n"
     ]
    },
    {
     "name": "stderr",
     "output_type": "stream",
     "text": [
      "\n",
      "\n",
      "\n",
      "\n",
      "\n",
      "\n",
      "\n",
      "\n",
      "\n",
      "\n",
      "\n",
      "\n",
      "100%|██████████| 1/1 [00:09<00:00,  9.25s/it]\u001b[A\u001b[A\u001b[A\u001b[A\u001b[A\u001b[A\u001b[A\u001b[A\u001b[A\u001b[A\u001b[A\u001b[A"
     ]
    },
    {
     "name": "stdout",
     "output_type": "stream",
     "text": [
      "98\n",
      "99\n",
      "9.260571241378784\n"
     ]
    },
    {
     "name": "stderr",
     "output_type": "stream",
     "text": [
      "\n"
     ]
    }
   ],
   "source": [
    "dataset = 'autism' #sys.argv[1]\n",
    "biomarker = 'sbb1' #sys.argv[2]\n",
    "\n",
    "BIOMARKER_DIR = '/home/groups/dpwall/briannac/sequence_based_biomarkers/'\n",
    "PERMUTE_START = 0\n",
    "PERMUTE_END = 100\n",
    "\n",
    "pvals_data = sorted(np.load(BIOMARKER_DIR + 'results/pvalues/pvals_%s_%s.npy' % (dataset, biomarker)))\n",
    "permuted_phenos = np.load(BIOMARKER_DIR + 'intermediate_files/permutation_test/%s_phenos_permuted.npy' % dataset).astype(int)[PERMUTE_START:PERMUTE_END]\n",
    "pvals_count = np.zeros(len(pvals_data)).astype(int)\n",
    "step_size=100000\n",
    "n_iters=len(permuted_phenos)\n",
    "person_biomarker = scipy.sparse.load_npz(BIOMARKER_DIR + 'results/generate_biomarkers/sample_vs_biomarker_%s_%s.npz' % (biomarker, dataset))\n",
    "\n",
    "t = time.time()\n",
    "print('person x biomarker shape: ', np.shape(person_biomarker))\n",
    "for chunk_start in tqdm(np.arange(0,np.shape(person_biomarker)[1], step=step_size)):\n",
    "    chunk_end = min(chunk_start+step_size, np.shape(person_biomarker)[1])\n",
    "    person_biomarker_current = person_biomarker[:,chunk_start:chunk_end].toarray()\n",
    "    if 'autism' in dataset:\n",
    "        d = person_biomarker_current[::2]-person_biomarker_current[1::2]\n",
    "        diffs_rank = np.apply_along_axis(arr=d, axis=0,func1d=lambda x:rankdata(abs(x)))\n",
    "    if 'obesity' in dataset:\n",
    "        ranks = rankdata(person_biomarker_current, axis=0)\n",
    "    for i in range(n_iters):\n",
    "        print(i)\n",
    "        if 'autism' in dataset:\n",
    "            diffs = np.apply_along_axis(arr=d, axis=0,func1d=lambda x: x*permuted_phenos[i,::2])\n",
    "            pvals_permute = [wilcoxon_fast(d, rank) for d, rank in zip(diffs.transpose(), diffs_rank.transpose())]\n",
    "        elif 'obesity' in dataset:\n",
    "            affected = ranks[np.where(permuted_phenos[i])[0],:]\n",
    "            unaffected = ranks[np.where(np.invert(permuted_phenos[i]))[0],:]\n",
    "            pvals_permute = sorted([mannwhitneyu_fast(\n",
    "                affected[:,i],\n",
    "                unaffected[:,i]) for i in range(np.shape(person_biomarker_current)[1])])\n",
    "        pvals_count = pvals_count + countLessThanEqual(pvals_data, pvals_permute)\n",
    "#fdr = [p/(i+.0001)/n_iters for i,p in enumerate(pvals_count)]\n",
    "print(time.time()-t)\n",
    "np.save(BIOMARKER_DIR + 'results/pvalues/%s_%s/false_discovery_count_%s_%s.npy' % (datset, biomarker, dataset, biomarker), pvals_count)\n"
   ]
  },
  {
   "cell_type": "code",
   "execution_count": 98,
   "metadata": {},
   "outputs": [],
   "source": [
    "def countLessThanEqual(pvals_data, pvals_permute):\n",
    "    idx_data = 0\n",
    "    idx_permute = 0\n",
    "    pvals_count = np.zeros(len(pvals_data))\n",
    "    while (idx_permute<len(pvals_permute)) & (idx_data<len(pvals_data)):\n",
    "        if pvals_permute[idx_permute]<=pvals_data[idx_data]:\n",
    "            pvals_count[idx_data:] = pvals_count[idx_data:] + 1\n",
    "            idx_permute = idx_permute + 1\n",
    "        else:\n",
    "            idx_data = idx_data + 1\n",
    "    return pvals_count"
   ]
  },
  {
   "cell_type": "code",
   "execution_count": 97,
   "metadata": {},
   "outputs": [
    {
     "data": {
      "text/plain": [
       "array([1., 1., 2., 2., 8., 8., 8., 8., 8.])"
      ]
     },
     "execution_count": 97,
     "metadata": {},
     "output_type": "execute_result"
    }
   ],
   "source": [
    "pvals_count"
   ]
  },
  {
   "cell_type": "code",
   "execution_count": 9,
   "metadata": {},
   "outputs": [
    {
     "name": "stderr",
     "output_type": "stream",
     "text": [
      "  0%|          | 0/1 [00:00<?, ?it/s]"
     ]
    },
    {
     "name": "stdout",
     "output_type": "stream",
     "text": [
      "person x biomarker shape:  (640, 183)\n"
     ]
    },
    {
     "name": "stderr",
     "output_type": "stream",
     "text": [
      "100%|██████████| 1/1 [00:00<00:00,  3.19it/s]\n",
      "/home/users/briannac/.local/lib/python3.6/site-packages/ipykernel_launcher.py:30: RuntimeWarning: divide by zero encountered in double_scalars\n"
     ]
    }
   ],
   "source": [
    "print('person x biomarker shape: ', np.shape(person_biomarker))\n",
    "for chunk_start in tqdm(np.arange(0,np.shape(person_biomarker)[1], step=step_size)):\n",
    "    chunk_end = min(chunk_start+step_size, np.shape(person_biomarker)[1])\n",
    "    person_biomarker_current = person_biomarker[:,chunk_start:chunk_end].toarray()\n",
    "    if 'autism' in dataset:\n",
    "        d = person_biomarker_current[::2]-person_biomarker_current[1::2]\n",
    "        diffs_rank = np.apply_along_axis(arr=d, axis=0,func1d=lambda x:rankdata(abs(x)))\n",
    "    if 'obesity' in dataset:\n",
    "        ranks = rankdata(person_biomarker_current, axis=0)\n",
    "    for i in range(n_iters):\n",
    "        if 'autism' in dataset:\n",
    "            diffs = np.apply_along_axis(arr=d, axis=0,func1d=lambda x: x*permuted_phenos[i,::2])\n",
    "            pvals_permute = [wilcoxon_fast(d, rank) for d, rank in zip(diffs.transpose(), diffs_rank.transpose())]\n",
    "        elif 'obesity' in dataset:\n",
    "            affected = ranks[np.where(permuted_phenos[i])[0],:]\n",
    "            unaffected = ranks[np.where(np.invert(permuted_phenos[i]))[0],:]\n",
    "            pvals_permute = [mannwhitneyu_fast(\n",
    "                affected[:,i],\n",
    "                unaffected[:,i]) for i in range(np.shape(person_biomarker_current)[1])]\n",
    "        pvals_count = pvals_count + countEleLessThanOrEqual(pvals_data, pvals_permute)\n",
    "fdr = [p/i/n_iters for i,p in enumerate(pvals_count)]"
   ]
  },
  {
   "cell_type": "code",
   "execution_count": 8,
   "metadata": {},
   "outputs": [
    {
     "data": {
      "image/png": "[encoded data removed]",
      "text/plain": [
       "<Figure size 432x288 with 1 Axes>"
      ]
     },
     "metadata": {
      "needs_background": "light"
     },
     "output_type": "display_data"
    }
   ],
   "source": [
    "import matplotlib.pyplot as plt\n",
    "plt.plot(fdr)\n",
    "plt.show()"
   ]
  },
  {
   "cell_type": "code",
   "execution_count": 5,
   "metadata": {},
   "outputs": [],
   "source": [
    "import scipy.sparse\n",
    "import numpy as np\n",
    "import pandas as pd"
   ]
  },
  {
   "cell_type": "code",
   "execution_count": 47,
   "metadata": {},
   "outputs": [],
   "source": [
    "def sparse_unique_columns(M):\n",
    "    M = M.tocsc()\n",
    "    m, n = M.shape\n",
    "    if not M.has_sorted_indices:\n",
    "        M.sort_indices()\n",
    "    if not M.has_canonical_format:\n",
    "        M.sum_duplicates()\n",
    "    sizes = np.diff(M.indptr)\n",
    "    idx = np.argsort(sizes)\n",
    "    Ms = M@scipy.sparse.csc_matrix((np.ones((n,)), idx, np.arange(n+1)), (n, n))\n",
    "    ssizes = np.diff(Ms.indptr)\n",
    "    ssizes[1:] -= ssizes[:-1]\n",
    "    grpidx, = np.where(ssizes)\n",
    "    grpidx = np.concatenate([grpidx, [n]])\n",
    "    if ssizes[0] == 0:\n",
    "        counts = [np.array([0, grpidx[0]])]\n",
    "    else:\n",
    "        counts = [np.zeros((1,), int)]\n",
    "    ssizes = ssizes[grpidx[:-1]].cumsum()\n",
    "    for i, ss in enumerate(ssizes):\n",
    "        gil, gir = grpidx[i:i+2]\n",
    "        pl, pr = Ms.indptr[[gil, gir]]\n",
    "        dv = Ms.data[pl:pr].view(f'V{ss*Ms.data.dtype.itemsize}')\n",
    "        iv = Ms.indices[pl:pr].view(f'V{ss*Ms.indices.dtype.itemsize}')\n",
    "        idxi = np.lexsort((dv, iv))\n",
    "        dv = dv[idxi]\n",
    "        iv = iv[idxi]\n",
    "        chng, = np.where(np.concatenate(\n",
    "            [[True], (dv[1:] != dv[:-1]) | (iv[1:] != iv[:-1]), [True]]))\n",
    "        counts.append(np.diff(chng))\n",
    "        idx[gil:gir] = idx[gil:gir][idxi]\n",
    "    counts = np.concatenate(counts)\n",
    "    nu = counts.size - 1\n",
    "    uniques = M@scipy.sparse.csc_matrix((np.ones((nu,)), idx[counts[:-1].cumsum()],\n",
    "                                   np.arange(nu + 1)), (n, nu))\n",
    "    return uniques, idx[counts[:-1].cumsum()], counts[1:]"
   ]
  },
  {
   "cell_type": "code",
   "execution_count": 48,
   "metadata": {},
   "outputs": [],
   "source": [
    "uniques, idx = np.unique(pd.DataFrame(asv_biomarker.todense()), return_index=True, axis=1)"
   ]
  },
  {
   "cell_type": "code",
   "execution_count": 7,
   "metadata": {},
   "outputs": [
    {
     "data": {
      "text/html": [
       "<div>\n",
       "<style scoped>\n",
       "    .dataframe tbody tr th:only-of-type {\n",
       "        vertical-align: middle;\n",
       "    }\n",
       "\n",
       "    .dataframe tbody tr th {\n",
       "        vertical-align: top;\n",
       "    }\n",
       "\n",
       "    .dataframe thead th {\n",
       "        text-align: right;\n",
       "    }\n",
       "</style>\n",
       "<table border=\"1\" class=\"dataframe\">\n",
       "  <thead>\n",
       "    <tr style=\"text-align: right;\">\n",
       "      <th></th>\n",
       "      <th>0</th>\n",
       "    </tr>\n",
       "  </thead>\n",
       "  <tbody>\n",
       "    <tr>\n",
       "      <th>0</th>\n",
       "      <td>(0, 202)\\tTrue\\n  (0, 208)\\tTrue\\n  (0, 211)...</td>\n",
       "    </tr>\n",
       "    <tr>\n",
       "      <th>1</th>\n",
       "      <td>(0, 202)\\tTrue\\n  (0, 208)\\tTrue\\n  (0, 211)...</td>\n",
       "    </tr>\n",
       "    <tr>\n",
       "      <th>2</th>\n",
       "      <td>(0, 208)\\tTrue\\n  (0, 211)\\tTrue\\n  (0, 217)...</td>\n",
       "    </tr>\n",
       "    <tr>\n",
       "      <th>3</th>\n",
       "      <td>(0, 166)\\tTrue\\n  (0, 170)\\tTrue\\n  (0, 174)...</td>\n",
       "    </tr>\n",
       "    <tr>\n",
       "      <th>4</th>\n",
       "      <td>(0, 166)\\tTrue\\n  (0, 174)\\tTrue\\n  (0, 175)...</td>\n",
       "    </tr>\n",
       "    <tr>\n",
       "      <th>...</th>\n",
       "      <td>...</td>\n",
       "    </tr>\n",
       "    <tr>\n",
       "      <th>5244</th>\n",
       "      <td>(0, 142)\\tTrue\\n  (0, 143)\\tTrue\\n  (0, 147)...</td>\n",
       "    </tr>\n",
       "    <tr>\n",
       "      <th>5245</th>\n",
       "      <td>(0, 166)\\tTrue\\n  (0, 170)\\tTrue\\n  (0, 174)...</td>\n",
       "    </tr>\n",
       "    <tr>\n",
       "      <th>5246</th>\n",
       "      <td>(0, 166)\\tTrue\\n  (0, 170)\\tTrue\\n  (0, 174)...</td>\n",
       "    </tr>\n",
       "    <tr>\n",
       "      <th>5247</th>\n",
       "      <td>(0, 202)\\tTrue\\n  (0, 208)\\tTrue\\n  (0, 211)...</td>\n",
       "    </tr>\n",
       "    <tr>\n",
       "      <th>5248</th>\n",
       "      <td>(0, 142)\\tTrue\\n  (0, 143)\\tTrue\\n  (0, 147)...</td>\n",
       "    </tr>\n",
       "  </tbody>\n",
       "</table>\n",
       "<p>5249 rows × 1 columns</p>\n",
       "</div>"
      ],
      "text/plain": [
       "                                                      0\n",
       "0       (0, 202)\\tTrue\\n  (0, 208)\\tTrue\\n  (0, 211)...\n",
       "1       (0, 202)\\tTrue\\n  (0, 208)\\tTrue\\n  (0, 211)...\n",
       "2       (0, 208)\\tTrue\\n  (0, 211)\\tTrue\\n  (0, 217)...\n",
       "3       (0, 166)\\tTrue\\n  (0, 170)\\tTrue\\n  (0, 174)...\n",
       "4       (0, 166)\\tTrue\\n  (0, 174)\\tTrue\\n  (0, 175)...\n",
       "...                                                 ...\n",
       "5244    (0, 142)\\tTrue\\n  (0, 143)\\tTrue\\n  (0, 147)...\n",
       "5245    (0, 166)\\tTrue\\n  (0, 170)\\tTrue\\n  (0, 174)...\n",
       "5246    (0, 166)\\tTrue\\n  (0, 170)\\tTrue\\n  (0, 174)...\n",
       "5247    (0, 202)\\tTrue\\n  (0, 208)\\tTrue\\n  (0, 211)...\n",
       "5248    (0, 142)\\tTrue\\n  (0, 143)\\tTrue\\n  (0, 147)...\n",
       "\n",
       "[5249 rows x 1 columns]"
      ]
     },
     "execution_count": 7,
     "metadata": {},
     "output_type": "execute_result"
    }
   ],
   "source": [
    "asv_biomarker = scipy.sparse.load_npz('/home/groups/dpwall/briannac/sequence_based_biomarkers/results/generate_biomarkers/asv_vs_biomarker_sbb2_testing_autism.npz')\n",
    "df = pd.DataFrame(asv_biomarker)\n",
    "df"
   ]
  },
  {
   "cell_type": "code",
   "execution_count": null,
   "metadata": {},
   "outputs": [],
   "source": [
    "_, idx = np.unique([tuple(asv_biomarker[i,:].indices) for i in range(np.shape(asv_biomarker)[0])], return_index=True)\n",
    "idx = sorted(idx)\n",
    "\n",
    "print(\"Number of biomarkers after LD filtering: \", len(idx))\n",
    "\n",
    "\n",
    "#np.save('%sperson_variant%d_condensed' %  (output_dir,order), person_biomarker)\n",
    "biomarkers = combinations(range(len(variants)), order)\n",
    "\n",
    "print('Computing biomarker names...')\n",
    "with open(biomarker_names_file_out, 'w') as f:\n",
    "    for i,biomarker in tqdm(enumerate(biomarkers)):\n",
    "        if biomarker_exists[i] & (i in idx):  \n",
    "            f.write('\\t'.join([variants[x] for x in biomarker]) + '\\t' + '\\t'.join([str(x) for x in biomarker]) + '\\n')\n",
    "print(\"Writing to file\")\n",
    "asv_biomarker = scipy.sparse.csc_matrix(asv_biomarker[:,idx]).transpose()\n",
    "person_biomarker = scipy.sparse.csc_matrix(person_biomarker[:,idx])\n",
    "\n",
    "#with open(biomarker_names_file_out, 'w') as f:\n",
    "#    f.writelines([b + '\\n' for b in biomarker_names])\n",
    "\n",
    "scipy.sparse.save_npz(asv_vs_biomarker_file_out, asv_biomarker)  # Save sparse matrix of ASV x biomarker.\n",
    "scipy.sparse.save_npz(person_biomarker_file_out, person_biomarker)  # Save sparse matrix of ASV x biomarker.\n",
    "            \n",
    "            \n",
    "            \n",
    "#biomarker_names = ['\\t'.join(\n",
    "#    [variants[x] for x in biomarker]) + '\\t' + '\\t'.join([str(x) for x in biomarker]) for biomarker,biomarker_exist in tqdm(zip(biomarkers, biomarker_exists)) if biomarker_exist]\n",
    "\n",
    "#print('removing Biomarkers in LD...')\n",
    "#biomarkers = combinations(range(len(variants)), order)\n",
    "#def filter(array, thresh):\n",
    "#    count = Counter(array)\n",
    "#    return tuple(sorted([i for i in count if count[i]>=thresh]))\n",
    "\n",
    "#asvs_per_biomarker = [\n",
    "#    filter(asv_variant[:,biomarker].indices, order) for biomarker,biomarker_exist in tqdm(zip(\n",
    "#        biomarkers, biomarker_exists)) if biomarker_exist]\n",
    "#_, idx = np.unique(asvs_per_biomarker, return_index=True)\n",
    "#print(np.shape(idx))\n",
    "\n",
    "\n",
    "\n",
    "#print('Computing biomarker_names...')\n",
    "#biomarker_names = ['\\t'.join(\n",
    "#    [variants[x] for x in biomarker]) + '\\t' + '\\t'.join([str(x) for x in biomarker]) for biomarker,biomarker_exist in tqdm(zip(biomarkers, biomarker_exists)) if biomarker_exist] \n",
    "\n",
    "#print('Computing ASV_vs_biomarker...')\n",
    "#asv_vs_biomarker = scipy.sparse.lil_matrix((np.shape(asv_variant)[0],len(biomarker_names)), dtype=bool)\n",
    "#for biomarker,asv in tqdm(enumerate(asvs_per_biomarker)):\n",
    "#    asv_vs_biomarker[asv,biomarker]= True\n",
    "print(\"Writing to file\")\n",
    "asv_biomarker = scipy.sparse.csc_matrix(biomarker_asv[idx,:]).transpose()\n",
    "person_biomarker = scipy.sparse.csc_matrix(person_biomarker[:,idx])\n",
    "\n",
    "#with open(biomarker_names_file_out, 'w') as f:\n",
    "#    f.writelines([b + '\\n' for b in biomarker_names])\n",
    "\n",
    "scipy.sparse.save_npz(asv_vs_biomarker_file_out, asv_biomarker)  # Save sparse matrix of ASV x biomarker.\n",
    "scipy.sparse.save_npz(person_biomarker_file_out, person_biomarker)  # Save sparse matrix of ASV x biomarker."
   ]
  }
 ],
 "metadata": {
  "kernelspec": {
   "display_name": "py_36_env",
   "language": "python",
   "name": "py_36_env"
  },
  "language_info": {
   "codemirror_mode": {
    "name": "ipython",
    "version": 3
   },
   "file_extension": ".py",
   "mimetype": "text/x-python",
   "name": "python",
   "nbconvert_exporter": "python",
   "pygments_lexer": "ipython3",
   "version": "3.6.1"
  }
 },
 "nbformat": 4,
 "nbformat_minor": 4
}
