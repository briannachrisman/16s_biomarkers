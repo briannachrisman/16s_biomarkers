{
 "cells": [
  {
   "cell_type": "code",
   "execution_count": 64,
   "metadata": {},
   "outputs": [
    {
     "name": "stderr",
     "output_type": "stream",
     "text": [
      "1596it [00:00, 506094.29it/s]"
     ]
    },
    {
     "name": "stdout",
     "output_type": "stream",
     "text": [
      "Writing to files...\n"
     ]
    },
    {
     "name": "stderr",
     "output_type": "stream",
     "text": [
      "\n"
     ]
    }
   ],
   "source": [
    "unique_idx_current = 0\n",
    "current_idx = 0\n",
    "with open(biomarker_names_file_out, 'w') as f:\n",
    "    for i,biomarker in tqdm(enumerate(biomarkers)):\n",
    "        if biomarker_exists[i]:  # If biomarker doesn't even exist, just skip.\n",
    "            if unique_idx_current==len(no_ld_idx):\n",
    "                break\n",
    "                print('here')\n",
    "            elif current_idx==no_ld_idx[unique_idx_current]:\n",
    "                if is_abundant[unique_idx_current]: \n",
    "                    print('here')\n",
    "                    f.write('\\t'.join([variants[x] for x in biomarker]) + '\\t' + '\\t'.join([str(x) for x in biomarker]) + '\\n')\n",
    "                unique_idx_current += 1\n",
    "            current_idx += 1\n",
    "print(\"Writing to files...\")\n",
    "#scipy.sparse.save_npz(asv_vs_biomarker_file_out, asv_biomarker)  # Save sparse matrix of ASV x biomarker.\n",
    "#scipy.sparse.save_npz(person_biomarker_file_out, person_biomarker)  # Save sparse matrix of ASV x biomarker."
   ]
  },
  {
   "cell_type": "code",
   "execution_count": 71,
   "metadata": {},
   "outputs": [
    {
     "data": {
      "text/plain": [
       "527"
      ]
     },
     "execution_count": 71,
     "metadata": {},
     "output_type": "execute_result"
    }
   ],
   "source": [
    "unique_idx_current"
   ]
  },
  {
   "cell_type": "code",
   "execution_count": 5,
   "metadata": {},
   "outputs": [],
   "source": [
    "import scipy.sparse\n",
    "import numpy as np\n",
    "import pandas as pd"
   ]
  },
  {
   "cell_type": "code",
   "execution_count": 47,
   "metadata": {},
   "outputs": [],
   "source": [
    "def sparse_unique_columns(M):\n",
    "    M = M.tocsc()\n",
    "    m, n = M.shape\n",
    "    if not M.has_sorted_indices:\n",
    "        M.sort_indices()\n",
    "    if not M.has_canonical_format:\n",
    "        M.sum_duplicates()\n",
    "    sizes = np.diff(M.indptr)\n",
    "    idx = np.argsort(sizes)\n",
    "    Ms = M@scipy.sparse.csc_matrix((np.ones((n,)), idx, np.arange(n+1)), (n, n))\n",
    "    ssizes = np.diff(Ms.indptr)\n",
    "    ssizes[1:] -= ssizes[:-1]\n",
    "    grpidx, = np.where(ssizes)\n",
    "    grpidx = np.concatenate([grpidx, [n]])\n",
    "    if ssizes[0] == 0:\n",
    "        counts = [np.array([0, grpidx[0]])]\n",
    "    else:\n",
    "        counts = [np.zeros((1,), int)]\n",
    "    ssizes = ssizes[grpidx[:-1]].cumsum()\n",
    "    for i, ss in enumerate(ssizes):\n",
    "        gil, gir = grpidx[i:i+2]\n",
    "        pl, pr = Ms.indptr[[gil, gir]]\n",
    "        dv = Ms.data[pl:pr].view(f'V{ss*Ms.data.dtype.itemsize}')\n",
    "        iv = Ms.indices[pl:pr].view(f'V{ss*Ms.indices.dtype.itemsize}')\n",
    "        idxi = np.lexsort((dv, iv))\n",
    "        dv = dv[idxi]\n",
    "        iv = iv[idxi]\n",
    "        chng, = np.where(np.concatenate(\n",
    "            [[True], (dv[1:] != dv[:-1]) | (iv[1:] != iv[:-1]), [True]]))\n",
    "        counts.append(np.diff(chng))\n",
    "        idx[gil:gir] = idx[gil:gir][idxi]\n",
    "    counts = np.concatenate(counts)\n",
    "    nu = counts.size - 1\n",
    "    uniques = M@scipy.sparse.csc_matrix((np.ones((nu,)), idx[counts[:-1].cumsum()],\n",
    "                                   np.arange(nu + 1)), (n, nu))\n",
    "    return uniques, idx[counts[:-1].cumsum()], counts[1:]"
   ]
  },
  {
   "cell_type": "code",
   "execution_count": 48,
   "metadata": {},
   "outputs": [],
   "source": [
    "uniques, idx = np.unique(pd.DataFrame(asv_biomarker.todense()), return_index=True, axis=1)"
   ]
  },
  {
   "cell_type": "code",
   "execution_count": 7,
   "metadata": {},
   "outputs": [
    {
     "data": {
      "text/html": [
       "<div>\n",
       "<style scoped>\n",
       "    .dataframe tbody tr th:only-of-type {\n",
       "        vertical-align: middle;\n",
       "    }\n",
       "\n",
       "    .dataframe tbody tr th {\n",
       "        vertical-align: top;\n",
       "    }\n",
       "\n",
       "    .dataframe thead th {\n",
       "        text-align: right;\n",
       "    }\n",
       "</style>\n",
       "<table border=\"1\" class=\"dataframe\">\n",
       "  <thead>\n",
       "    <tr style=\"text-align: right;\">\n",
       "      <th></th>\n",
       "      <th>0</th>\n",
       "    </tr>\n",
       "  </thead>\n",
       "  <tbody>\n",
       "    <tr>\n",
       "      <th>0</th>\n",
       "      <td>(0, 202)\\tTrue\\n  (0, 208)\\tTrue\\n  (0, 211)...</td>\n",
       "    </tr>\n",
       "    <tr>\n",
       "      <th>1</th>\n",
       "      <td>(0, 202)\\tTrue\\n  (0, 208)\\tTrue\\n  (0, 211)...</td>\n",
       "    </tr>\n",
       "    <tr>\n",
       "      <th>2</th>\n",
       "      <td>(0, 208)\\tTrue\\n  (0, 211)\\tTrue\\n  (0, 217)...</td>\n",
       "    </tr>\n",
       "    <tr>\n",
       "      <th>3</th>\n",
       "      <td>(0, 166)\\tTrue\\n  (0, 170)\\tTrue\\n  (0, 174)...</td>\n",
       "    </tr>\n",
       "    <tr>\n",
       "      <th>4</th>\n",
       "      <td>(0, 166)\\tTrue\\n  (0, 174)\\tTrue\\n  (0, 175)...</td>\n",
       "    </tr>\n",
       "    <tr>\n",
       "      <th>...</th>\n",
       "      <td>...</td>\n",
       "    </tr>\n",
       "    <tr>\n",
       "      <th>5244</th>\n",
       "      <td>(0, 142)\\tTrue\\n  (0, 143)\\tTrue\\n  (0, 147)...</td>\n",
       "    </tr>\n",
       "    <tr>\n",
       "      <th>5245</th>\n",
       "      <td>(0, 166)\\tTrue\\n  (0, 170)\\tTrue\\n  (0, 174)...</td>\n",
       "    </tr>\n",
       "    <tr>\n",
       "      <th>5246</th>\n",
       "      <td>(0, 166)\\tTrue\\n  (0, 170)\\tTrue\\n  (0, 174)...</td>\n",
       "    </tr>\n",
       "    <tr>\n",
       "      <th>5247</th>\n",
       "      <td>(0, 202)\\tTrue\\n  (0, 208)\\tTrue\\n  (0, 211)...</td>\n",
       "    </tr>\n",
       "    <tr>\n",
       "      <th>5248</th>\n",
       "      <td>(0, 142)\\tTrue\\n  (0, 143)\\tTrue\\n  (0, 147)...</td>\n",
       "    </tr>\n",
       "  </tbody>\n",
       "</table>\n",
       "<p>5249 rows × 1 columns</p>\n",
       "</div>"
      ],
      "text/plain": [
       "                                                      0\n",
       "0       (0, 202)\\tTrue\\n  (0, 208)\\tTrue\\n  (0, 211)...\n",
       "1       (0, 202)\\tTrue\\n  (0, 208)\\tTrue\\n  (0, 211)...\n",
       "2       (0, 208)\\tTrue\\n  (0, 211)\\tTrue\\n  (0, 217)...\n",
       "3       (0, 166)\\tTrue\\n  (0, 170)\\tTrue\\n  (0, 174)...\n",
       "4       (0, 166)\\tTrue\\n  (0, 174)\\tTrue\\n  (0, 175)...\n",
       "...                                                 ...\n",
       "5244    (0, 142)\\tTrue\\n  (0, 143)\\tTrue\\n  (0, 147)...\n",
       "5245    (0, 166)\\tTrue\\n  (0, 170)\\tTrue\\n  (0, 174)...\n",
       "5246    (0, 166)\\tTrue\\n  (0, 170)\\tTrue\\n  (0, 174)...\n",
       "5247    (0, 202)\\tTrue\\n  (0, 208)\\tTrue\\n  (0, 211)...\n",
       "5248    (0, 142)\\tTrue\\n  (0, 143)\\tTrue\\n  (0, 147)...\n",
       "\n",
       "[5249 rows x 1 columns]"
      ]
     },
     "execution_count": 7,
     "metadata": {},
     "output_type": "execute_result"
    }
   ],
   "source": [
    "asv_biomarker = scipy.sparse.load_npz('/home/groups/dpwall/briannac/sequence_based_biomarkers/results/generate_biomarkers/asv_vs_biomarker_sbb2_testing_autism.npz')\n",
    "df = pd.DataFrame(asv_biomarker)\n",
    "df"
   ]
  },
  {
   "cell_type": "code",
   "execution_count": null,
   "metadata": {},
   "outputs": [],
   "source": [
    "_, idx = np.unique([tuple(asv_biomarker[i,:].indices) for i in range(np.shape(asv_biomarker)[0])], return_index=True)\n",
    "idx = sorted(idx)\n",
    "\n",
    "print(\"Number of biomarkers after LD filtering: \", len(idx))\n",
    "\n",
    "\n",
    "#np.save('%sperson_variant%d_condensed' %  (output_dir,order), person_biomarker)\n",
    "biomarkers = combinations(range(len(variants)), order)\n",
    "\n",
    "print('Computing biomarker names...')\n",
    "with open(biomarker_names_file_out, 'w') as f:\n",
    "    for i,biomarker in tqdm(enumerate(biomarkers)):\n",
    "        if biomarker_exists[i] & (i in idx):  \n",
    "            f.write('\\t'.join([variants[x] for x in biomarker]) + '\\t' + '\\t'.join([str(x) for x in biomarker]) + '\\n')\n",
    "print(\"Writing to file\")\n",
    "asv_biomarker = scipy.sparse.csc_matrix(asv_biomarker[:,idx]).transpose()\n",
    "person_biomarker = scipy.sparse.csc_matrix(person_biomarker[:,idx])\n",
    "\n",
    "#with open(biomarker_names_file_out, 'w') as f:\n",
    "#    f.writelines([b + '\\n' for b in biomarker_names])\n",
    "\n",
    "scipy.sparse.save_npz(asv_vs_biomarker_file_out, asv_biomarker)  # Save sparse matrix of ASV x biomarker.\n",
    "scipy.sparse.save_npz(person_biomarker_file_out, person_biomarker)  # Save sparse matrix of ASV x biomarker.\n",
    "            \n",
    "            \n",
    "            \n",
    "#biomarker_names = ['\\t'.join(\n",
    "#    [variants[x] for x in biomarker]) + '\\t' + '\\t'.join([str(x) for x in biomarker]) for biomarker,biomarker_exist in tqdm(zip(biomarkers, biomarker_exists)) if biomarker_exist]\n",
    "\n",
    "#print('removing Biomarkers in LD...')\n",
    "#biomarkers = combinations(range(len(variants)), order)\n",
    "#def filter(array, thresh):\n",
    "#    count = Counter(array)\n",
    "#    return tuple(sorted([i for i in count if count[i]>=thresh]))\n",
    "\n",
    "#asvs_per_biomarker = [\n",
    "#    filter(asv_variant[:,biomarker].indices, order) for biomarker,biomarker_exist in tqdm(zip(\n",
    "#        biomarkers, biomarker_exists)) if biomarker_exist]\n",
    "#_, idx = np.unique(asvs_per_biomarker, return_index=True)\n",
    "#print(np.shape(idx))\n",
    "\n",
    "\n",
    "\n",
    "#print('Computing biomarker_names...')\n",
    "#biomarker_names = ['\\t'.join(\n",
    "#    [variants[x] for x in biomarker]) + '\\t' + '\\t'.join([str(x) for x in biomarker]) for biomarker,biomarker_exist in tqdm(zip(biomarkers, biomarker_exists)) if biomarker_exist] \n",
    "\n",
    "#print('Computing ASV_vs_biomarker...')\n",
    "#asv_vs_biomarker = scipy.sparse.lil_matrix((np.shape(asv_variant)[0],len(biomarker_names)), dtype=bool)\n",
    "#for biomarker,asv in tqdm(enumerate(asvs_per_biomarker)):\n",
    "#    asv_vs_biomarker[asv,biomarker]= True\n",
    "print(\"Writing to file\")\n",
    "asv_biomarker = scipy.sparse.csc_matrix(biomarker_asv[idx,:]).transpose()\n",
    "person_biomarker = scipy.sparse.csc_matrix(person_biomarker[:,idx])\n",
    "\n",
    "#with open(biomarker_names_file_out, 'w') as f:\n",
    "#    f.writelines([b + '\\n' for b in biomarker_names])\n",
    "\n",
    "scipy.sparse.save_npz(asv_vs_biomarker_file_out, asv_biomarker)  # Save sparse matrix of ASV x biomarker.\n",
    "scipy.sparse.save_npz(person_biomarker_file_out, person_biomarker)  # Save sparse matrix of ASV x biomarker."
   ]
  }
 ],
 "metadata": {
  "kernelspec": {
   "display_name": "py_36_env",
   "language": "python",
   "name": "py_36_env"
  },
  "language_info": {
   "codemirror_mode": {
    "name": "ipython",
    "version": 3
   },
   "file_extension": ".py",
   "mimetype": "text/x-python",
   "name": "python",
   "nbconvert_exporter": "python",
   "pygments_lexer": "ipython3",
   "version": "3.6.1"
  }
 },
 "nbformat": 4,
 "nbformat_minor": 4
}
