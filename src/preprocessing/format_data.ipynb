{
 "cells": [
  {
   "cell_type": "markdown",
   "id": "crude-chapel",
   "metadata": {},
   "source": [
    "# Obesity"
   ]
  },
  {
   "cell_type": "markdown",
   "id": "romantic-token",
   "metadata": {},
   "source": [
    "Downloaded obesity raw data from QIITA. Downloaded fasta file of sequences, and converted BIOM file to asv table using code below."
   ]
  },
  {
   "cell_type": "raw",
   "id": "offensive-overall",
   "metadata": {},
   "source": [
    "%%bash\n",
    "## Convert .biom format to table.\n",
    "cd $MY_HOME/sequence_based_biomarkers/data/obesity\n",
    "biom convert -i all.61224.biom -o asv_table.tsv --to-tsv --header-key taxonomy # Note version 61224 and 44407 are nearly identical."
   ]
  },
  {
   "cell_type": "code",
   "execution_count": 1,
   "id": "neither-oliver",
   "metadata": {},
   "outputs": [],
   "source": [
    "import pandas as pd\n",
    "import numpy as np\n",
    "from Bio import SeqIO"
   ]
  },
  {
   "cell_type": "code",
   "execution_count": 18,
   "id": "interesting-vacuum",
   "metadata": {},
   "outputs": [],
   "source": [
    "# Setup sample_vs_asv\n",
    "asv_table = pd.read_table(\n",
    "    '/home/groups/dpwall/briannac/sequence_based_biomarkers/data/obesity/asv_table.tsv', \n",
    "    skiprows=1, index_col=0)\n",
    "asv_table.index = [i for i in range(len(asv_table))]\n",
    "asv_table.drop('taxonomy', axis=1, inplace=True)\n",
    "asv_order = np.argsort(asv_table.sum(axis=1))\n",
    "asv_order = asv_order[(asv_table.iloc[asv_order].sum(axis=1)>0).values]\n",
    "asv_table = asv_table.apply(lambda x: x/sum(x))\n",
    "asv_table.iloc[asv_order].to_csv(\n",
    "    '/home/groups/dpwall/briannac/sequence_based_biomarkers/data/obesity/sample_vs_asv.tsv',\n",
    "    sep='\\t')"
   ]
  },
  {
   "cell_type": "code",
   "execution_count": 24,
   "id": "center-piano",
   "metadata": {},
   "outputs": [],
   "source": [
    "# Set up sample_metadata.tsv\n",
    "sample_metadata = pd.read_table('/home/groups/dpwall/briannac/sequence_based_biomarkers/data/obesity/sample_data.tsv', index_col=0)\n",
    "sample_metadata['phenotype'] = sample_metadata['obesitycat']=='Obese'\n",
    "sample_metadata['subclass'] = sample_metadata['family']\n",
    "sample_metadata['subject'] = sample_metadata['host_subject_id']\n",
    "sample_metadata[['phenotype', 'family', 'subclass', 'subject']].loc[asv_table.columns].to_csv('/home/groups/dpwall/briannac/sequence_based_biomarkers/data/obesity/sample_metadata.tsv', sep='\\t')\n"
   ]
  },
  {
   "cell_type": "code",
   "execution_count": 31,
   "id": "sudden-disposal",
   "metadata": {},
   "outputs": [
    {
     "data": {
      "text/plain": [
       "12363"
      ]
     },
     "execution_count": 31,
     "metadata": {},
     "output_type": "execute_result"
    }
   ],
   "source": [
    "# Set up seqs.fa\n",
    "seqs = [record for record in SeqIO.parse(\n",
    "    '/home/groups/dpwall/briannac/sequence_based_biomarkers/data/obesity/all.61224.seqs.fa', 'fasta')]\n",
    "sizes = asv_table.sum(axis=1)\n",
    "for i in range(len(seqs)):\n",
    "    seqs[i].id = str(i)+';size=%i;' % sizes[i]\n",
    "    seqs[i].description  = ''\n",
    "seqs = [seqs[i] for i in asv_order]\n",
    "SeqIO.write(seqs, '/home/groups/dpwall/briannac/sequence_based_biomarkers/data/obesity/seqs.fa', \"fasta\")\n",
    "\n"
   ]
  },
  {
   "cell_type": "markdown",
   "id": "colored-undergraduate",
   "metadata": {},
   "source": [
    "# Autism"
   ]
  },
  {
   "cell_type": "raw",
   "id": "wooden-vienna",
   "metadata": {},
   "source": [
    "### In R (done in colab because R sucks on sherlock).\n",
    "\n",
    "ASD_PS_FILE = 'phyloseq_20190611.rds'\n",
    "asd_ps = readRDS(ASD_PS_FILE)\n",
    "write.table(otu_table(asd_ps), 'otu_table.tsv')\n",
    "write.table(sample_data(asd_ps), 'sample_data.tsv')\n",
    "write.table(tax_table(asd_ps), 'ASVid_to_seq.tsv')\n",
    "#obesity_biom = import_biom(OBESITY_BIOM_FILE)\n",
    "\n",
    "ASD_PS_FILE = 'phyloseq_20190611.rds'\n",
    "asd_ps = readRDS(ASD_PS_FILE)\n",
    "write.table(otu_table(asd_ps), 'otu_table.tsv')\n",
    "write.table(sample_data(asd_ps), 'sample_data.tsv')\n",
    "write.table(tax_table(asd_ps), 'ASVid_to_seq.tsv')"
   ]
  },
  {
   "cell_type": "code",
   "execution_count": 24,
   "id": "positive-person",
   "metadata": {},
   "outputs": [],
   "source": [
    "# Set up sample_metadata.tsv\n",
    "sample_metadata = pd.read_table('/home/groups/dpwall/briannac/sequence_based_biomarkers/data/autism/sample_data.tsv', index_col=0, sep=' ')\n",
    "sample_metadata['family'] = sample_metadata['Family.group.ID..Biospecimen.']\n",
    "sample_metadata['subclass'] = [str(i)+','+j for i,j in zip(sample_metadata['Family.group.ID..Biospecimen.'], sample_metadata['Within.study.sampling.date..Biospecimen.'])]\n",
    "sample_metadata['phenotype'] = sample_metadata['phenotype']=='A'\n",
    "sample_metadata['subject'] = sample_metadata['Host.ID']\n",
    "grouped = sample_metadata.groupby(['subclass']).aggregate(lambda x: len(set(x)))\n",
    "subclasses = grouped[grouped.phenotype==2].index\n",
    "sample_metadata = sample_metadata[[s in subclasses for s in sample_metadata.subclass]]\n",
    "sample_metadata = sample_metadata.sort_values(['subclass', 'phenotype'])\n",
    "sample_metadata[['phenotype', 'family', 'subclass', 'subject']].to_csv('/home/groups/dpwall/briannac/sequence_based_biomarkers/data/autism/sample_metadata.tsv', sep='\\t')"
   ]
  },
  {
   "cell_type": "code",
   "execution_count": 26,
   "id": "cooked-mercy",
   "metadata": {},
   "outputs": [],
   "source": [
    "# Set up otu_table.tsv\n",
    "asv_table = pd.read_table('/home/groups/dpwall/briannac/sequence_based_biomarkers/data/autism/otu_table.tsv', sep=' ')\n",
    "asv_table.index = [i for i in range(len(asv_table))]\n",
    "asv_order = np.argsort(asv_table.sum(axis=1))\n",
    "asv_order = asv_order[(asv_table.iloc[asv_order].sum(axis=1)>0).values]\n",
    "asv_table = asv_table.apply(lambda x: x/sum(x))\n",
    "asv_table = asv_table.iloc[asv_order][sample_metadata.index]\n",
    "asv_table.to_csv('/home/groups/dpwall/briannac/sequence_based_biomarkers/data/autism/sample_vs_asv.tsv', sep='\\t')"
   ]
  },
  {
   "cell_type": "code",
   "execution_count": 27,
   "id": "impressed-triple",
   "metadata": {},
   "outputs": [],
   "source": [
    "# Set up seqs.fa\n",
    "asvid_to_seq = pd.read_csv('/home/groups/dpwall/briannac/sequence_based_biomarkers/data/autism/ASVid_to_seq.tsv', sep=' ')\n",
    "asvid_to_seq.index = [i for i in range(len(asvid_to_seq))]\n",
    "asvid_to_seq = asvid_to_seq.iloc[asv_order]\n",
    "with open('/home/groups/dpwall/briannac/sequence_based_biomarkers/data/autism/seqs.fa','w') as f:\n",
    "    for idx,seq,size in zip(asvid_to_seq.index, asvid_to_seq.Sequence,asv_table.sum(axis=1)[asv_order]):\n",
    "        f.write('>%i;size=%i;\\n' % (idx, size))\n",
    "        f.write(seq + '\\n')"
   ]
  },
  {
   "cell_type": "markdown",
   "id": "optimum-syndication",
   "metadata": {},
   "source": [
    "# Align Sequences\n",
    "Aligned both ```data/<dataset>/seqs.fa``` files w/RDP database at: https://pyro.cme.msu.edu/aligner/, saved in ```data/<dataset>/seqs_aligned.fa```\n"
   ]
  },
  {
   "cell_type": "markdown",
   "id": "attempted-directive",
   "metadata": {},
   "source": [
    "# Taxonomic annotation\n",
    "Annotated both ```data/<dataset>/seqs.fa``` files w/RDP database at: https://rdp.cme.msu.edu/classifier/, saved in ```data/<dataset>/seqs_annotated.fa```\n",
    "\n"
   ]
  },
  {
   "cell_type": "code",
   "execution_count": 22,
   "id": "vertical-pasta",
   "metadata": {},
   "outputs": [],
   "source": [
    "for dataset in ['autism', 'obesity']:\n",
    "    file_name = '/home/groups/dpwall/briannac/sequence_based_biomarkers/data/%s/seqs_annotated.txt' % dataset\n",
    "    with open(file_name) as f:\n",
    "        lines = f.readlines()[7:]\n",
    "    mylist = []\n",
    "    for l in lines:\n",
    "        tax_names = l.split(';')[4::2]\n",
    "        percentages = [int(i) for i in l.replace('/n', '').replace('%', '').split(';')[5::2]]\n",
    "        mylist = mylist + [[l.split(';')[0]]+[tax_name if percentage>80 else 'unclassified' for tax_name, percentage in zip(tax_names, percentages)]]\n",
    "    df = pd.DataFrame(mylist)\n",
    "    df.set_index(0, inplace=True)\n",
    "    df.columns = ['Kingdom', 'Phylum', 'Class', 'Order', 'Family', 'Genus']\n",
    "    df.to_csv(file_name.replace('seqs_annotated.txt', 'asv_vs_taxa_annotation.tsv'), sep='\\t')"
   ]
  },
  {
   "cell_type": "code",
   "execution_count": 23,
   "id": "dental-domestic",
   "metadata": {},
   "outputs": [],
   "source": [
    "mylist = []\n",
    "for l in lines:\n",
    "    tax_names = l.split(';')[4::2]\n",
    "    percentages = [int(i) for i in l.replace('/n', '').replace('%', '').split(';')[5::2]]\n",
    "    mylist = mylist + [[l.split(';')[0]]+[tax_name if percentage>80 else 'unclassified' for tax_name, percentage in zip(tax_names, percentages)]]"
   ]
  }
 ],
 "metadata": {
  "kernelspec": {
   "display_name": "py_36_env",
   "language": "python",
   "name": "py_36_env"
  },
  "language_info": {
   "codemirror_mode": {
    "name": "ipython",
    "version": 3
   },
   "file_extension": ".py",
   "mimetype": "text/x-python",
   "name": "python",
   "nbconvert_exporter": "python",
   "pygments_lexer": "ipython3",
   "version": "3.6.1"
  }
 },
 "nbformat": 4,
 "nbformat_minor": 5
}
