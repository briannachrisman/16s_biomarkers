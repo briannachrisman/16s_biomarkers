{
 "cells": [
  {
   "cell_type": "markdown",
   "id": "current-thesaurus",
   "metadata": {},
   "source": [
    "# Set up iters."
   ]
  },
  {
   "cell_type": "code",
   "execution_count": 6,
   "id": "lovely-desktop",
   "metadata": {},
   "outputs": [],
   "source": [
    "import numpy as np\n",
    "import pandas as pd\n",
    "from glob import glob"
   ]
  },
  {
   "cell_type": "markdown",
   "id": "original-fifteen",
   "metadata": {},
   "source": [
    "## False discoveries"
   ]
  },
  {
   "cell_type": "code",
   "execution_count": 37,
   "id": "micro-catalyst",
   "metadata": {},
   "outputs": [
    {
     "name": "stdout",
     "output_type": "stream",
     "text": [
      "/home/groups/dpwall/briannac/sequence_based_biomarkers/results/generate_SBBs/yogurt_DECIPHER_person_variant1_unique.npy 22651\n",
      "/home/groups/dpwall/briannac/sequence_based_biomarkers/results/generate_SBBs/obese_lean_twins_DECIPHER_person_variant1_unique.npy 918\n",
      "/home/groups/dpwall/briannac/sequence_based_biomarkers/results/generate_SBBs/yogurt_DECIPHER_person_variant2_unique.npy 405\n",
      "/home/groups/dpwall/briannac/sequence_based_biomarkers/results/generate_SBBs/obese_lean_twins_DECIPHER_person_variant2_unique.npy 126119\n"
     ]
    }
   ],
   "source": [
    "mylist = []\n",
    "project_dir = '/home/groups/dpwall/briannac/sequence_based_biomarkers/'\n",
    "for order in ['variant1','variant2']:#,'variant3']:#,'tax_levels', 'ASV', 'ditaxa']:\n",
    "    for dataset in ['autism', 'obesity']:\n",
    "        if dataset=='autism': prefix='yogurt'\n",
    "        if dataset=='obesity': prefix='obese_lean_twins'\n",
    "        f = project_dir + 'results/generate_SBBs/%s_DECIPHER_person_%s_unique.npy' % (prefix, order)\n",
    "        print(f,length)\n",
    "        length = np.shape(np.load(f))[1]\n",
    "        for i, start in enumerate(np.arange(0,length, 1000)):\n",
    "            mylist = mylist + [\n",
    "                (f.replace('results/generate_SBBs', 'intermediate_files/permutation_test').replace('person_variant', '').replace('_unique.npy', '_%s.txt' % i),\n",
    "                 f.replace('person_variant', 'pvals_'), f, start+1,min(length,start+1000),dataset)\n",
    "            ]\n"
   ]
  },
  {
   "cell_type": "code",
   "execution_count": 38,
   "id": "prospective-extraction",
   "metadata": {},
   "outputs": [
    {
     "name": "stdout",
     "output_type": "stream",
     "text": [
      "writing to: /home/groups/dpwall/briannac/sequence_based_biomarkers/intermediate_files/permutation_test/list_of_iters.tsv\n"
     ]
    }
   ],
   "source": [
    "df = pd.DataFrame(mylist)\n",
    "print('writing to:',  project_dir + 'intermediate_files/permutation_test/list_of_iters.tsv')\n",
    "df.set_index(0).to_csv(project_dir + 'intermediate_files/permutation_test/list_of_iters.tsv', sep='\\t', header=None)"
   ]
  },
  {
   "cell_type": "markdown",
   "id": "preceding-dakota",
   "metadata": {},
   "source": [
    "# Pvalue"
   ]
  },
  {
   "cell_type": "code",
   "execution_count": 7,
   "id": "limited-trout",
   "metadata": {},
   "outputs": [],
   "source": [
    "mylist = []\n",
    "project_dir = '/home/groups/dpwall/briannac/sequence_based_biomarkers/'\n",
    "for order in ['variant1','variant2']:#,'variant3']:#,'tax_levels', 'ASV', 'ditaxa']:\n",
    "    for dataset in ['autism', 'obesity']:\n",
    "        if dataset=='autism': prefix='yogurt'\n",
    "        if dataset=='obesity': prefix='obese_lean_twins'\n",
    "        f = project_dir + 'results/generate_SBBs/%s_DECIPHER_person_%s_unique.npy' % (prefix, order)\n",
    "        mylist = mylist + [\n",
    "            (f.replace('results/generate_SBBs', 'intermediate_files/permutation_test').replace('person_variant', '').replace('_unique.npy', '.txt'),\n",
    "             f.replace('person_variant', 'pvals_') ,dataset)\n",
    "        ]\n",
    "\n",
    "        "
   ]
  },
  {
   "cell_type": "code",
   "execution_count": 8,
   "id": "civilian-treasurer",
   "metadata": {},
   "outputs": [
    {
     "name": "stdout",
     "output_type": "stream",
     "text": [
      "writing to: /home/groups/dpwall/briannac/sequence_based_biomarkers/intermediate_files/pvalues/list_of_iters.tsv\n"
     ]
    }
   ],
   "source": [
    "df = pd.DataFrame(mylist)\n",
    "print('writing to:',  project_dir + 'intermediate_files/pvalues/list_of_iters.tsv')\n",
    "df.set_index(0).to_csv(project_dir + 'intermediate_files/pvalues/list_of_iters.tsv', sep='\\t', header=None)"
   ]
  },
  {
   "cell_type": "markdown",
   "id": "irish-outreach",
   "metadata": {},
   "source": [
    "# Get unfinished data."
   ]
  },
  {
   "cell_type": "markdown",
   "id": "middle-beatles",
   "metadata": {},
   "source": [
    "## False discoveries"
   ]
  },
  {
   "cell_type": "code",
   "execution_count": 35,
   "id": "certain-singing",
   "metadata": {},
   "outputs": [],
   "source": [
    "from glob import glob\n",
    "import pandas as pd\n",
    "finished = glob(project_dir + '/home/groups/dpwall/briannac/sequence_based_biomarkers/intermediate_files/permutation_test/*.txt')\n",
    "all_iters = pd.read_table(project_dir + 'intermediate_files/permutation_test/list_of_iters.tsv', index_col=0, header=None)\n",
    "all_iters[[i for i in all_iters if i not in finished]].to_csv(\n",
    "    project_dir + 'intermediate_files/permutation_test/list_of_iters_unfinished.tsv', sep='\\t', header=None)"
   ]
  },
  {
   "cell_type": "code",
   "execution_count": null,
   "id": "signed-endorsement",
   "metadata": {},
   "outputs": [],
   "source": [
    "from glob import glob\n",
    "import pandas as pd\n",
    "finished = glob(project_dir + '/home/groups/dpwall/briannac/sequence_based_biomarkers/results/pvalues/*.txt')\n",
    "all_iters = pd.read_table(project_dir + 'intermediate_files/pvalues/list_of_iters.tsv', index_col=0, header=None)\n",
    "all_iters[[i for i in all_iters if i not in finished]].to_csv(\n",
    "    project_dir + 'intermediate_files/pvalues/list_of_iters_unfinished.tsv', sep='\\t', header=None)"
   ]
  }
 ],
 "metadata": {
  "kernelspec": {
   "display_name": "py_36_env",
   "language": "python",
   "name": "py_36_env"
  },
  "language_info": {
   "codemirror_mode": {
    "name": "ipython",
    "version": 3
   },
   "file_extension": ".py",
   "mimetype": "text/x-python",
   "name": "python",
   "nbconvert_exporter": "python",
   "pygments_lexer": "ipython3",
   "version": "3.6.1"
  }
 },
 "nbformat": 4,
 "nbformat_minor": 5
}
