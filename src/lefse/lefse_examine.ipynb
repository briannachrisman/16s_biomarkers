{
 "cells": [
  {
   "cell_type": "markdown",
   "metadata": {},
   "source": [
    "# LefSe"
   ]
  },
  {
   "cell_type": "code",
   "execution_count": 1,
   "metadata": {},
   "outputs": [
    {
     "name": "stderr",
     "output_type": "stream",
     "text": [
      "/home/users/briannac/.local/lib/python3.6/site-packages/pandas/core/ops/array_ops.py:253: FutureWarning: elementwise comparison failed; returning scalar instead, but in the future will perform elementwise comparison\n",
      "  res_values = method(rvalues)\n"
     ]
    }
   ],
   "source": [
    "import numpy as np\n",
    "import pandas as pd\n",
    "import scipy.sparse\n",
    "BIOMARKER_DIR = '/home/groups/dpwall/briannac/sequence_based_biomarkers/'\n",
    "\n",
    "for_df = []\n",
    "for dataset in ['autism', 'obesity']:\n",
    "    for biomarker_type in ['otu95', 'otu97', 'otu99', 'micropheno4', 'micropheno6', 'micropheno8', 'sbb1', 'sbb2', 'sbb3']:\n",
    "        lefse_in = pd.read_table(BIOMARKER_DIR + 'intermediate_files/lefse/sample_vs_biomarker_lefse_%s_%s.tsv' % (biomarker_type, dataset), sep='\\t', header=None, index_col=0)\n",
    "        lefse_results = pd.read_table(BIOMARKER_DIR + 'results/lefse/sample_vs_biomarker_lefse_%s_%s.out' % (biomarker_type, dataset), sep='\\t', header=None, index_col=0)\n",
    "        lefse_results.columns = ['score', 'drop', 'drop1',  'effect_size']\n",
    "        #lefse_results.drop(['drop', 'drop1'], axis=1, inplace=True)\n",
    "        lefse_results[lefse_results=='-'] = np.nan\n",
    "        lefse_results = lefse_results.astype(float)\n",
    "        for_df = for_df + [(dataset, biomarker_type, \n",
    "              sum(lefse_results.effect_size>0)/np.shape(lefse_in)[1], \n",
    "              np.nanmedian(lefse_results.effect_size))]"
   ]
  },
  {
   "cell_type": "markdown",
   "metadata": {},
   "source": [
    "# Autism"
   ]
  },
  {
   "cell_type": "code",
   "execution_count": 4,
   "metadata": {},
   "outputs": [
    {
     "name": "stdout",
     "output_type": "stream",
     "text": [
      "             fraction differentially abundant  median effect size\n",
      "biomarker                                                        \n",
      "otu95                                   0.168               0.009\n",
      "otu97                                   0.161               0.017\n",
      "otu99                                   0.128               0.020\n",
      "micropheno4                             0.237               0.021\n",
      "micropheno6                             0.149               0.014\n",
      "micropheno8                             0.112               0.017\n",
      "sbb1                                    0.158               0.018\n",
      "sbb2                                    0.112               0.023\n",
      "sbb3                                    0.098               0.012\n"
     ]
    },
    {
     "data": {
      "text/html": [
       "<div>\n",
       "<style scoped>\n",
       "    .dataframe tbody tr th:only-of-type {\n",
       "        vertical-align: middle;\n",
       "    }\n",
       "\n",
       "    .dataframe tbody tr th {\n",
       "        vertical-align: top;\n",
       "    }\n",
       "\n",
       "    .dataframe thead th {\n",
       "        text-align: right;\n",
       "    }\n",
       "</style>\n",
       "<table border=\"1\" class=\"dataframe\">\n",
       "  <thead>\n",
       "    <tr style=\"text-align: right;\">\n",
       "      <th></th>\n",
       "      <th>fraction differentially abundant</th>\n",
       "      <th>median effect size</th>\n",
       "    </tr>\n",
       "    <tr>\n",
       "      <th>biomarker</th>\n",
       "      <th></th>\n",
       "      <th></th>\n",
       "    </tr>\n",
       "  </thead>\n",
       "  <tbody>\n",
       "    <tr>\n",
       "      <th>otu95</th>\n",
       "      <td>0.168</td>\n",
       "      <td>0.009</td>\n",
       "    </tr>\n",
       "    <tr>\n",
       "      <th>otu97</th>\n",
       "      <td>0.161</td>\n",
       "      <td>0.017</td>\n",
       "    </tr>\n",
       "    <tr>\n",
       "      <th>otu99</th>\n",
       "      <td>0.128</td>\n",
       "      <td>0.020</td>\n",
       "    </tr>\n",
       "    <tr>\n",
       "      <th>micropheno4</th>\n",
       "      <td>0.237</td>\n",
       "      <td>0.021</td>\n",
       "    </tr>\n",
       "    <tr>\n",
       "      <th>micropheno6</th>\n",
       "      <td>0.149</td>\n",
       "      <td>0.014</td>\n",
       "    </tr>\n",
       "    <tr>\n",
       "      <th>micropheno8</th>\n",
       "      <td>0.112</td>\n",
       "      <td>0.017</td>\n",
       "    </tr>\n",
       "    <tr>\n",
       "      <th>sbb1</th>\n",
       "      <td>0.158</td>\n",
       "      <td>0.018</td>\n",
       "    </tr>\n",
       "    <tr>\n",
       "      <th>sbb2</th>\n",
       "      <td>0.112</td>\n",
       "      <td>0.023</td>\n",
       "    </tr>\n",
       "    <tr>\n",
       "      <th>sbb3</th>\n",
       "      <td>0.098</td>\n",
       "      <td>0.012</td>\n",
       "    </tr>\n",
       "  </tbody>\n",
       "</table>\n",
       "</div>"
      ],
      "text/plain": [
       "             fraction differentially abundant  median effect size\n",
       "biomarker                                                        \n",
       "otu95                                   0.168               0.009\n",
       "otu97                                   0.161               0.017\n",
       "otu99                                   0.128               0.020\n",
       "micropheno4                             0.237               0.021\n",
       "micropheno6                             0.149               0.014\n",
       "micropheno8                             0.112               0.017\n",
       "sbb1                                    0.158               0.018\n",
       "sbb2                                    0.112               0.023\n",
       "sbb3                                    0.098               0.012"
      ]
     },
     "execution_count": 4,
     "metadata": {},
     "output_type": "execute_result"
    }
   ],
   "source": [
    "df = pd.DataFrame(for_df)\n",
    "df = df[df[0]=='autism'][[1,2,3]]\n",
    "df[[2,3]] = round(df[[2,3]], 3)\n",
    "df = df[[1,2,3]]\n",
    "df.columns = ['biomarker', 'fraction differentially abundant', 'median effect size']\n",
    "df.index = df.biomarker\n",
    "df.drop('biomarker', axis=1, inplace=True)\n",
    "print(df)\n",
    "df"
   ]
  },
  {
   "cell_type": "markdown",
   "metadata": {},
   "source": [
    "# Obesity"
   ]
  },
  {
   "cell_type": "code",
   "execution_count": 5,
   "metadata": {},
   "outputs": [
    {
     "name": "stdout",
     "output_type": "stream",
     "text": [
      "             fraction differentially abundant  median effect size\n",
      "biomarker                                                        \n",
      "otu95                                   0.292               0.008\n",
      "otu97                                   0.275               0.011\n",
      "otu99                                   0.239               0.012\n",
      "micropheno4                             0.222               0.013\n",
      "micropheno6                             0.312               0.008\n",
      "micropheno8                             0.331               0.008\n",
      "sbb1                                    0.329               0.004\n",
      "sbb2                                    0.323               0.013\n",
      "sbb3                                    0.260               0.020\n"
     ]
    },
    {
     "data": {
      "text/html": [
       "<div>\n",
       "<style scoped>\n",
       "    .dataframe tbody tr th:only-of-type {\n",
       "        vertical-align: middle;\n",
       "    }\n",
       "\n",
       "    .dataframe tbody tr th {\n",
       "        vertical-align: top;\n",
       "    }\n",
       "\n",
       "    .dataframe thead th {\n",
       "        text-align: right;\n",
       "    }\n",
       "</style>\n",
       "<table border=\"1\" class=\"dataframe\">\n",
       "  <thead>\n",
       "    <tr style=\"text-align: right;\">\n",
       "      <th></th>\n",
       "      <th>fraction differentially abundant</th>\n",
       "      <th>median effect size</th>\n",
       "    </tr>\n",
       "    <tr>\n",
       "      <th>biomarker</th>\n",
       "      <th></th>\n",
       "      <th></th>\n",
       "    </tr>\n",
       "  </thead>\n",
       "  <tbody>\n",
       "    <tr>\n",
       "      <th>otu95</th>\n",
       "      <td>0.292</td>\n",
       "      <td>0.008</td>\n",
       "    </tr>\n",
       "    <tr>\n",
       "      <th>otu97</th>\n",
       "      <td>0.275</td>\n",
       "      <td>0.011</td>\n",
       "    </tr>\n",
       "    <tr>\n",
       "      <th>otu99</th>\n",
       "      <td>0.239</td>\n",
       "      <td>0.012</td>\n",
       "    </tr>\n",
       "    <tr>\n",
       "      <th>micropheno4</th>\n",
       "      <td>0.222</td>\n",
       "      <td>0.013</td>\n",
       "    </tr>\n",
       "    <tr>\n",
       "      <th>micropheno6</th>\n",
       "      <td>0.312</td>\n",
       "      <td>0.008</td>\n",
       "    </tr>\n",
       "    <tr>\n",
       "      <th>micropheno8</th>\n",
       "      <td>0.331</td>\n",
       "      <td>0.008</td>\n",
       "    </tr>\n",
       "    <tr>\n",
       "      <th>sbb1</th>\n",
       "      <td>0.329</td>\n",
       "      <td>0.004</td>\n",
       "    </tr>\n",
       "    <tr>\n",
       "      <th>sbb2</th>\n",
       "      <td>0.323</td>\n",
       "      <td>0.013</td>\n",
       "    </tr>\n",
       "    <tr>\n",
       "      <th>sbb3</th>\n",
       "      <td>0.260</td>\n",
       "      <td>0.020</td>\n",
       "    </tr>\n",
       "  </tbody>\n",
       "</table>\n",
       "</div>"
      ],
      "text/plain": [
       "             fraction differentially abundant  median effect size\n",
       "biomarker                                                        \n",
       "otu95                                   0.292               0.008\n",
       "otu97                                   0.275               0.011\n",
       "otu99                                   0.239               0.012\n",
       "micropheno4                             0.222               0.013\n",
       "micropheno6                             0.312               0.008\n",
       "micropheno8                             0.331               0.008\n",
       "sbb1                                    0.329               0.004\n",
       "sbb2                                    0.323               0.013\n",
       "sbb3                                    0.260               0.020"
      ]
     },
     "execution_count": 5,
     "metadata": {},
     "output_type": "execute_result"
    }
   ],
   "source": [
    "df = pd.DataFrame(for_df)\n",
    "df = df[df[0]=='obesity'][[1,2,3]]\n",
    "df[[2,3]] = round(df[[2,3]], 3)\n",
    "df = df[[1,2,3]]\n",
    "df.columns = ['biomarker', 'fraction differentially abundant', 'median effect size']\n",
    "df.index = df.biomarker\n",
    "df.drop('biomarker', axis=1, inplace=True)\n",
    "print(df)\n",
    "df"
   ]
  }
 ],
 "metadata": {
  "kernelspec": {
   "display_name": "py_36_env",
   "language": "python",
   "name": "py_36_env"
  },
  "language_info": {
   "codemirror_mode": {
    "name": "ipython",
    "version": 3
   },
   "file_extension": ".py",
   "mimetype": "text/x-python",
   "name": "python",
   "nbconvert_exporter": "python",
   "pygments_lexer": "ipython3",
   "version": "3.6.1"
  }
 },
 "nbformat": 4,
 "nbformat_minor": 5
}
