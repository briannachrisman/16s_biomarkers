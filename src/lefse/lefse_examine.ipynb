{
 "cells": [
  {
   "cell_type": "code",
   "execution_count": 20,
   "metadata": {},
   "outputs": [
    {
     "name": "stdout",
     "output_type": "stream",
     "text": [
      "taxa autism\n",
      "40\n",
      "0.046995410348258805\n",
      "taxa obesity\n",
      "49\n",
      "0.04774171513228434\n",
      "sbb1 autism\n",
      "102\n",
      "0.049945747230711865\n",
      "sbb1 obesity\n",
      "196\n",
      "0.04939202078352518\n",
      "sbb2 autism\n",
      "112\n",
      "0.04922800322058883\n",
      "sbb2 obesity\n",
      "323\n",
      "0.04927470087962541\n",
      "asv autism\n",
      "57\n",
      "0.04840903875033744\n",
      "asv obesity\n",
      "62\n",
      "0.047831638773432446\n",
      "micropheno8 autism\n",
      "112\n",
      "0.048208263716717645\n",
      "micropheno8 obesity\n",
      "331\n",
      "0.049842965001616495\n",
      "micropheno6 autism\n",
      "149\n",
      "0.049651670673387174\n",
      "micropheno6 obesity\n",
      "312\n",
      "0.049966156893786765\n"
     ]
    },
    {
     "name": "stderr",
     "output_type": "stream",
     "text": [
      "/home/users/briannac/.local/lib/python3.6/site-packages/pandas/core/ops/array_ops.py:253: FutureWarning: elementwise comparison failed; returning scalar instead, but in the future will perform elementwise comparison\n",
      "  res_values = method(rvalues)\n"
     ]
    }
   ],
   "source": [
    "import numpy as np\n",
    "import pandas as pd\n",
    "import scipy.sparse\n",
    "BIOMARKER_DIR = '/home/groups/dpwall/briannac/sequence_based_biomarkers/'\n",
    "\n",
    "for biomarker_type in ['taxa', 'sbb1', 'sbb2', 'asv', 'micropheno8', 'micropheno6']:\n",
    "    for dataset in ['autism', 'obesity']:\n",
    "        print(biomarker_type, dataset)\n",
    "        lefse_results = pd.read_table(BIOMARKER_DIR + 'results/lefse/sample_vs_biomarker_lefse_%s_%s.out' % (biomarker_type, dataset), sep='\\t', header=None, index_col=0)\n",
    "        lefse_results.columns = ['score', 'drop', 'drop1',  'effect_size']\n",
    "        #lefse_results.drop(['drop', 'drop1'], axis=1, inplace=True)\n",
    "        lefse_results[lefse_results=='-'] = np.nan\n",
    "        lefse_results = lefse_results.astype(float)\n",
    "        print(sum(lefse_results.effect_size>0))\n",
    "        print(np.max(lefse_results.effect_size))"
   ]
  },
  {
   "cell_type": "code",
   "execution_count": 19,
   "metadata": {},
   "outputs": [
    {
     "data": {
      "text/html": [
       "<div>\n",
       "<style scoped>\n",
       "    .dataframe tbody tr th:only-of-type {\n",
       "        vertical-align: middle;\n",
       "    }\n",
       "\n",
       "    .dataframe tbody tr th {\n",
       "        vertical-align: top;\n",
       "    }\n",
       "\n",
       "    .dataframe thead th {\n",
       "        text-align: right;\n",
       "    }\n",
       "</style>\n",
       "<table border=\"1\" class=\"dataframe\">\n",
       "  <thead>\n",
       "    <tr style=\"text-align: right;\">\n",
       "      <th></th>\n",
       "      <th>score</th>\n",
       "      <th>drop</th>\n",
       "      <th>drop1</th>\n",
       "      <th>effect_size</th>\n",
       "    </tr>\n",
       "    <tr>\n",
       "      <th>0</th>\n",
       "      <th></th>\n",
       "      <th></th>\n",
       "      <th></th>\n",
       "      <th></th>\n",
       "    </tr>\n",
       "  </thead>\n",
       "  <tbody>\n",
       "    <tr>\n",
       "      <th>f_1304</th>\n",
       "      <td>0.0</td>\n",
       "      <td>NaN</td>\n",
       "      <td>NaN</td>\n",
       "      <td>NaN</td>\n",
       "    </tr>\n",
       "    <tr>\n",
       "      <th>f_558</th>\n",
       "      <td>0.0</td>\n",
       "      <td>NaN</td>\n",
       "      <td>NaN</td>\n",
       "      <td>NaN</td>\n",
       "    </tr>\n",
       "    <tr>\n",
       "      <th>f_2741</th>\n",
       "      <td>0.0</td>\n",
       "      <td>NaN</td>\n",
       "      <td>NaN</td>\n",
       "      <td>NaN</td>\n",
       "    </tr>\n",
       "    <tr>\n",
       "      <th>f_2563</th>\n",
       "      <td>0.0</td>\n",
       "      <td>NaN</td>\n",
       "      <td>NaN</td>\n",
       "      <td>NaN</td>\n",
       "    </tr>\n",
       "    <tr>\n",
       "      <th>f_2971</th>\n",
       "      <td>0.0</td>\n",
       "      <td>NaN</td>\n",
       "      <td>NaN</td>\n",
       "      <td>NaN</td>\n",
       "    </tr>\n",
       "    <tr>\n",
       "      <th>...</th>\n",
       "      <td>...</td>\n",
       "      <td>...</td>\n",
       "      <td>...</td>\n",
       "      <td>...</td>\n",
       "    </tr>\n",
       "    <tr>\n",
       "      <th>f_616</th>\n",
       "      <td>0.0</td>\n",
       "      <td>NaN</td>\n",
       "      <td>NaN</td>\n",
       "      <td>NaN</td>\n",
       "    </tr>\n",
       "    <tr>\n",
       "      <th>f_1842</th>\n",
       "      <td>0.0</td>\n",
       "      <td>NaN</td>\n",
       "      <td>NaN</td>\n",
       "      <td>NaN</td>\n",
       "    </tr>\n",
       "    <tr>\n",
       "      <th>f_938</th>\n",
       "      <td>0.0</td>\n",
       "      <td>NaN</td>\n",
       "      <td>NaN</td>\n",
       "      <td>NaN</td>\n",
       "    </tr>\n",
       "    <tr>\n",
       "      <th>f_2721</th>\n",
       "      <td>0.0</td>\n",
       "      <td>NaN</td>\n",
       "      <td>NaN</td>\n",
       "      <td>NaN</td>\n",
       "    </tr>\n",
       "    <tr>\n",
       "      <th>f_3609</th>\n",
       "      <td>0.0</td>\n",
       "      <td>NaN</td>\n",
       "      <td>NaN</td>\n",
       "      <td>NaN</td>\n",
       "    </tr>\n",
       "  </tbody>\n",
       "</table>\n",
       "<p>1000 rows × 4 columns</p>\n",
       "</div>"
      ],
      "text/plain": [
       "        score  drop  drop1  effect_size\n",
       "0                                      \n",
       "f_1304    0.0   NaN    NaN          NaN\n",
       "f_558     0.0   NaN    NaN          NaN\n",
       "f_2741    0.0   NaN    NaN          NaN\n",
       "f_2563    0.0   NaN    NaN          NaN\n",
       "f_2971    0.0   NaN    NaN          NaN\n",
       "...       ...   ...    ...          ...\n",
       "f_616     0.0   NaN    NaN          NaN\n",
       "f_1842    0.0   NaN    NaN          NaN\n",
       "f_938     0.0   NaN    NaN          NaN\n",
       "f_2721    0.0   NaN    NaN          NaN\n",
       "f_3609    0.0   NaN    NaN          NaN\n",
       "\n",
       "[1000 rows x 4 columns]"
      ]
     },
     "execution_count": 19,
     "metadata": {},
     "output_type": "execute_result"
    }
   ],
   "source": [
    "lefse_results"
   ]
  },
  {
   "cell_type": "code",
   "execution_count": 14,
   "metadata": {},
   "outputs": [
    {
     "data": {
      "text/plain": [
       "40"
      ]
     },
     "execution_count": 14,
     "metadata": {},
     "output_type": "execute_result"
    }
   ],
   "source": [
    "sum(lefse_results.effect_size>0)"
   ]
  },
  {
   "cell_type": "code",
   "execution_count": 6,
   "metadata": {},
   "outputs": [
    {
     "data": {
      "text/plain": [
       "40"
      ]
     },
     "execution_count": 6,
     "metadata": {},
     "output_type": "execute_result"
    }
   ],
   "source": [
    "sum(~np.isnan(lefse_results.effect_size))"
   ]
  },
  {
   "cell_type": "code",
   "execution_count": 73,
   "metadata": {},
   "outputs": [
    {
     "data": {
      "text/plain": [
       "'/home/groups/dpwall/briannac/sequence_based_biomarkers/results/lefse/sample_vs_biomarker_lefse_micropheno8_obesity.out'"
      ]
     },
     "execution_count": 73,
     "metadata": {},
     "output_type": "execute_result"
    }
   ],
   "source": [
    "BIOMARKER_DIR + 'results/lefse/sample_vs_biomarker_lefse_%s_%s.out' % (biomarker_type, dataset)"
   ]
  },
  {
   "cell_type": "code",
   "execution_count": 52,
   "metadata": {},
   "outputs": [
    {
     "data": {
      "text/plain": [
       "0.047408319681625746"
      ]
     },
     "execution_count": 52,
     "metadata": {},
     "output_type": "execute_result"
    }
   ],
   "source": [
    "np.max(lefse_results.effect_size)"
   ]
  },
  {
   "cell_type": "code",
   "execution_count": 6,
   "metadata": {},
   "outputs": [
    {
     "data": {
      "text/plain": [
       "0.0"
      ]
     },
     "execution_count": 6,
     "metadata": {},
     "output_type": "execute_result"
    }
   ],
   "source": [
    "max(lefse_results.score)"
   ]
  },
  {
   "cell_type": "code",
   "execution_count": 48,
   "metadata": {},
   "outputs": [
    {
     "data": {
      "text/plain": [
       "2.1485710843875963e-09"
      ]
     },
     "execution_count": 48,
     "metadata": {},
     "output_type": "execute_result"
    }
   ],
   "source": [
    "np.min(lefse_results.effect_size)"
   ]
  },
  {
   "cell_type": "code",
   "execution_count": 3,
   "metadata": {},
   "outputs": [
    {
     "data": {
      "text/plain": [
       "'/home/groups/dpwall/briannac/sequence_based_biomarkers/results/lefse/sample_vs_biomarker_lefse_otu95_obesity.out'"
      ]
     },
     "execution_count": 3,
     "metadata": {},
     "output_type": "execute_result"
    }
   ],
   "source": [
    "BIOMARKER_DIR + 'results/lefse/sample_vs_biomarker_lefse_%s_%s.out' % (biomarker_type, dataset)"
   ]
  },
  {
   "cell_type": "markdown",
   "metadata": {},
   "source": [
    "# Set up data for lefse"
   ]
  },
  {
   "cell_type": "code",
   "execution_count": 1,
   "metadata": {},
   "outputs": [
    {
     "name": "stdout",
     "output_type": "stream",
     "text": [
      "Process is terminated.\n"
     ]
    }
   ],
   "source": [
    "%%bash\n",
    "ml R/3.6.1\n",
    "\n",
    "for biomarker in taxa otu90 otu95 otu97 otu99 micropheno4 micropheno6 micropheno8 asv sbb1; do\n",
    "    for dataset in autism obesity; do\n",
    "    \n",
    "        echo $biomarker $dataset\n",
    "        python3.6 /oak/stanford/groups/dpwall/computeEnvironments/lefse/format_input.py \\\n",
    "        $MY_HOME/sequence_based_biomarkers/intermediate_files/lefse/sample_vs_biomarker_lefse_${biomarker}_${dataset}.tsv  $MY_HOME/sequence_based_biomarkers/intermediate_files/lefse/sample_vs_biomarker_lefse_${biomarker}_${dataset}.in \\\n",
    "        -c 1 -u 2  -f c \n",
    "\n",
    "        python3.6 /oak/stanford/groups/dpwall/computeEnvironments/lefse/run_lefse.py \\\n",
    "        $MY_HOME/sequence_based_biomarkers/intermediate_files/lefse/sample_vs_biomarker_lefse_${biomarker}_${dataset}.in \\\n",
    "        $MY_HOME/sequence_based_biomarkers/results/phenotype_associations/sample_vs_biomarker_lefse_${biomarker}_${dataset}.out\n",
    "\n",
    "    done\n",
    "done"
   ]
  },
  {
   "cell_type": "code",
   "execution_count": 4,
   "metadata": {},
   "outputs": [],
   "source": [
    "%%bash\n",
    "ml R/3.6.1\n",
    "python3.6 /oak/stanford/groups/dpwall/computeEnvironments/lefse/run_lefse.py \\\n",
    "$MY_HOME/sequence_based_biomarkers/results/generate_biomarkers/sample_vs_biomarker_lefse_taxa_autism.in \\\n",
    "$MY_HOME/sequence_based_biomarkers/results/generate_biomarkers/sample_vs_biomarker_lefse_taxa_autism.out  "
   ]
  }
 ],
 "metadata": {
  "kernelspec": {
   "display_name": "py_36_env",
   "language": "python",
   "name": "py_36_env"
  },
  "language_info": {
   "codemirror_mode": {
    "name": "ipython",
    "version": 3
   },
   "file_extension": ".py",
   "mimetype": "text/x-python",
   "name": "python",
   "nbconvert_exporter": "python",
   "pygments_lexer": "ipython3",
   "version": "3.6.1"
  }
 },
 "nbformat": 4,
 "nbformat_minor": 5
}
